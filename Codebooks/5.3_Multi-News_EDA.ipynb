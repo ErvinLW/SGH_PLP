{
 "cells": [
  {
   "cell_type": "markdown",
   "metadata": {},
   "source": [
    "##### 1. Import Libraries and Datasets"
   ]
  },
  {
   "cell_type": "code",
   "execution_count": 1,
   "metadata": {},
   "outputs": [],
   "source": [
    "# Import libraries\n",
    "import pandas as pd \n",
    "import numpy as np\n",
    "import openpyxl"
   ]
  },
  {
   "cell_type": "code",
   "execution_count": 2,
   "metadata": {},
   "outputs": [
    {
     "data": {
      "application/json": {
       "ascii": false,
       "bar_format": null,
       "colour": null,
       "elapsed": 0.011001825332641602,
       "initial": 0,
       "n": 0,
       "ncols": null,
       "nrows": null,
       "postfix": null,
       "prefix": "Downloading builder script",
       "rate": null,
       "total": 1632,
       "unit": "B",
       "unit_divisor": 1000,
       "unit_scale": true
      },
      "application/vnd.jupyter.widget-view+json": {
       "model_id": "6baef9bff9db4c609a302e5fe1a84790",
       "version_major": 2,
       "version_minor": 0
      },
      "text/plain": [
       "Downloading builder script:   0%|          | 0.00/1.63k [00:00<?, ?B/s]"
      ]
     },
     "metadata": {},
     "output_type": "display_data"
    },
    {
     "data": {
      "application/json": {
       "ascii": false,
       "bar_format": null,
       "colour": null,
       "elapsed": 0.009999513626098633,
       "initial": 0,
       "n": 0,
       "ncols": null,
       "nrows": null,
       "postfix": null,
       "prefix": "Downloading metadata",
       "rate": null,
       "total": 1241,
       "unit": "B",
       "unit_divisor": 1000,
       "unit_scale": true
      },
      "application/vnd.jupyter.widget-view+json": {
       "model_id": "bf6597411c0d42e4b1707fb65efda468",
       "version_major": 2,
       "version_minor": 0
      },
      "text/plain": [
       "Downloading metadata:   0%|          | 0.00/1.24k [00:00<?, ?B/s]"
      ]
     },
     "metadata": {},
     "output_type": "display_data"
    },
    {
     "name": "stderr",
     "output_type": "stream",
     "text": [
      "Using custom data configuration default\n"
     ]
    },
    {
     "name": "stdout",
     "output_type": "stream",
     "text": [
      "Downloading and preparing dataset multi_news/default (download: 721.73 MiB, generated: 664.42 MiB, post-processed: Unknown size, total: 1.35 GiB) to C:\\Users\\Ervin\\.cache\\huggingface\\datasets\\multi_news\\default\\1.0.0\\2f1f69a2bedc8ad1c5d8ae5148e4755ee7095f465c1c01ae8f85454342065a72...\n"
     ]
    },
    {
     "data": {
      "application/json": {
       "ascii": false,
       "bar_format": null,
       "colour": null,
       "elapsed": 0.009000062942504883,
       "initial": 0,
       "n": 0,
       "ncols": null,
       "nrows": null,
       "postfix": null,
       "prefix": "Downloading data files",
       "rate": null,
       "total": 3,
       "unit": "it",
       "unit_divisor": 1000,
       "unit_scale": false
      },
      "application/vnd.jupyter.widget-view+json": {
       "model_id": "ccfbcd563afc4a01b1cecd041ab68a17",
       "version_major": 2,
       "version_minor": 0
      },
      "text/plain": [
       "Downloading data files:   0%|          | 0/3 [00:00<?, ?it/s]"
      ]
     },
     "metadata": {},
     "output_type": "display_data"
    },
    {
     "data": {
      "application/json": {
       "ascii": false,
       "bar_format": null,
       "colour": null,
       "elapsed": 0.009000301361083984,
       "initial": 0,
       "n": 0,
       "ncols": null,
       "nrows": null,
       "postfix": null,
       "prefix": "Downloading data",
       "rate": null,
       "total": 547512283,
       "unit": "B",
       "unit_divisor": 1000,
       "unit_scale": true
      },
      "application/vnd.jupyter.widget-view+json": {
       "model_id": "15561a19269a425698c274c76fc9a226",
       "version_major": 2,
       "version_minor": 0
      },
      "text/plain": [
       "Downloading data:   0%|          | 0.00/548M [00:00<?, ?B/s]"
      ]
     },
     "metadata": {},
     "output_type": "display_data"
    },
    {
     "data": {
      "application/json": {
       "ascii": false,
       "bar_format": null,
       "colour": null,
       "elapsed": 0.010002613067626953,
       "initial": 0,
       "n": 0,
       "ncols": null,
       "nrows": null,
       "postfix": null,
       "prefix": "Downloading data",
       "rate": null,
       "total": 58793912,
       "unit": "B",
       "unit_divisor": 1000,
       "unit_scale": true
      },
      "application/vnd.jupyter.widget-view+json": {
       "model_id": "5a3f457c60b941eb8f4d7dd81c08a191",
       "version_major": 2,
       "version_minor": 0
      },
      "text/plain": [
       "Downloading data:   0%|          | 0.00/58.8M [00:00<?, ?B/s]"
      ]
     },
     "metadata": {},
     "output_type": "display_data"
    },
    {
     "data": {
      "application/json": {
       "ascii": false,
       "bar_format": null,
       "colour": null,
       "elapsed": 0.009000301361083984,
       "initial": 0,
       "n": 0,
       "ncols": null,
       "nrows": null,
       "postfix": null,
       "prefix": "Downloading data",
       "rate": null,
       "total": 66875522,
       "unit": "B",
       "unit_divisor": 1000,
       "unit_scale": true
      },
      "application/vnd.jupyter.widget-view+json": {
       "model_id": "a82600e79bf34f99bb5f0447a0274894",
       "version_major": 2,
       "version_minor": 0
      },
      "text/plain": [
       "Downloading data:   0%|          | 0.00/66.9M [00:00<?, ?B/s]"
      ]
     },
     "metadata": {},
     "output_type": "display_data"
    },
    {
     "data": {
      "application/json": {
       "ascii": false,
       "bar_format": null,
       "colour": null,
       "elapsed": 0.010000467300415039,
       "initial": 0,
       "n": 0,
       "ncols": null,
       "nrows": null,
       "postfix": null,
       "prefix": "Downloading data",
       "rate": null,
       "total": 7295302,
       "unit": "B",
       "unit_divisor": 1000,
       "unit_scale": true
      },
      "application/vnd.jupyter.widget-view+json": {
       "model_id": "3f41867a061f454ea0ba40c6985d33ff",
       "version_major": 2,
       "version_minor": 0
      },
      "text/plain": [
       "Downloading data:   0%|          | 0.00/7.30M [00:00<?, ?B/s]"
      ]
     },
     "metadata": {},
     "output_type": "display_data"
    },
    {
     "data": {
      "application/json": {
       "ascii": false,
       "bar_format": null,
       "colour": null,
       "elapsed": 0.009000062942504883,
       "initial": 0,
       "n": 0,
       "ncols": null,
       "nrows": null,
       "postfix": null,
       "prefix": "Downloading data",
       "rate": null,
       "total": 68999509,
       "unit": "B",
       "unit_divisor": 1000,
       "unit_scale": true
      },
      "application/vnd.jupyter.widget-view+json": {
       "model_id": "5a0e037423764ceab655d044488e91f9",
       "version_major": 2,
       "version_minor": 0
      },
      "text/plain": [
       "Downloading data:   0%|          | 0.00/69.0M [00:00<?, ?B/s]"
      ]
     },
     "metadata": {},
     "output_type": "display_data"
    },
    {
     "data": {
      "application/json": {
       "ascii": false,
       "bar_format": null,
       "colour": null,
       "elapsed": 0.008998870849609375,
       "initial": 0,
       "n": 0,
       "ncols": null,
       "nrows": null,
       "postfix": null,
       "prefix": "Downloading data",
       "rate": null,
       "total": 7309099,
       "unit": "B",
       "unit_divisor": 1000,
       "unit_scale": true
      },
      "application/vnd.jupyter.widget-view+json": {
       "model_id": "cf997f56db8b4aaba2f2d0ba6390a6aa",
       "version_major": 2,
       "version_minor": 0
      },
      "text/plain": [
       "Downloading data:   0%|          | 0.00/7.31M [00:00<?, ?B/s]"
      ]
     },
     "metadata": {},
     "output_type": "display_data"
    },
    {
     "data": {
      "application/json": {
       "ascii": false,
       "bar_format": null,
       "colour": null,
       "elapsed": 0.009000778198242188,
       "initial": 0,
       "n": 0,
       "ncols": null,
       "nrows": null,
       "postfix": null,
       "prefix": "Generating train split",
       "rate": null,
       "total": 44972,
       "unit": " examples",
       "unit_divisor": 1000,
       "unit_scale": false
      },
      "application/vnd.jupyter.widget-view+json": {
       "model_id": "43e5ee3dcee94ba5b78a20d1145b19e6",
       "version_major": 2,
       "version_minor": 0
      },
      "text/plain": [
       "Generating train split:   0%|          | 0/44972 [00:00<?, ? examples/s]"
      ]
     },
     "metadata": {},
     "output_type": "display_data"
    },
    {
     "data": {
      "application/json": {
       "ascii": false,
       "bar_format": null,
       "colour": null,
       "elapsed": 0.009000539779663086,
       "initial": 0,
       "n": 0,
       "ncols": null,
       "nrows": null,
       "postfix": null,
       "prefix": "Generating validation split",
       "rate": null,
       "total": 5622,
       "unit": " examples",
       "unit_divisor": 1000,
       "unit_scale": false
      },
      "application/vnd.jupyter.widget-view+json": {
       "model_id": "ae5cb42723d545a5859d8086db763064",
       "version_major": 2,
       "version_minor": 0
      },
      "text/plain": [
       "Generating validation split:   0%|          | 0/5622 [00:00<?, ? examples/s]"
      ]
     },
     "metadata": {},
     "output_type": "display_data"
    },
    {
     "data": {
      "application/json": {
       "ascii": false,
       "bar_format": null,
       "colour": null,
       "elapsed": 0.009000778198242188,
       "initial": 0,
       "n": 0,
       "ncols": null,
       "nrows": null,
       "postfix": null,
       "prefix": "Generating test split",
       "rate": null,
       "total": 5622,
       "unit": " examples",
       "unit_divisor": 1000,
       "unit_scale": false
      },
      "application/vnd.jupyter.widget-view+json": {
       "model_id": "c093ba88273445f29833bd9c54a78fc3",
       "version_major": 2,
       "version_minor": 0
      },
      "text/plain": [
       "Generating test split:   0%|          | 0/5622 [00:00<?, ? examples/s]"
      ]
     },
     "metadata": {},
     "output_type": "display_data"
    },
    {
     "name": "stdout",
     "output_type": "stream",
     "text": [
      "Dataset multi_news downloaded and prepared to C:\\Users\\Ervin\\.cache\\huggingface\\datasets\\multi_news\\default\\1.0.0\\2f1f69a2bedc8ad1c5d8ae5148e4755ee7095f465c1c01ae8f85454342065a72. Subsequent calls will reuse this data.\n"
     ]
    },
    {
     "data": {
      "application/json": {
       "ascii": false,
       "bar_format": null,
       "colour": null,
       "elapsed": 0.00999903678894043,
       "initial": 0,
       "n": 0,
       "ncols": null,
       "nrows": null,
       "postfix": null,
       "prefix": "",
       "rate": null,
       "total": 3,
       "unit": "it",
       "unit_divisor": 1000,
       "unit_scale": false
      },
      "application/vnd.jupyter.widget-view+json": {
       "model_id": "c8e83adb0eba48b39864a13d324e860f",
       "version_major": 2,
       "version_minor": 0
      },
      "text/plain": [
       "  0%|          | 0/3 [00:00<?, ?it/s]"
      ]
     },
     "metadata": {},
     "output_type": "display_data"
    }
   ],
   "source": [
    "from datasets import load_dataset\n",
    "dataset = load_dataset(\"multi_news\", download_mode=\"force_redownload\")"
   ]
  },
  {
   "cell_type": "code",
   "execution_count": 3,
   "metadata": {},
   "outputs": [
    {
     "name": "stdout",
     "output_type": "stream",
     "text": [
      "SGH Media Reports dataset dimensions are: (44972, 2)\n"
     ]
    },
    {
     "data": {
      "text/html": [
       "<div>\n",
       "<style scoped>\n",
       "    .dataframe tbody tr th:only-of-type {\n",
       "        vertical-align: middle;\n",
       "    }\n",
       "\n",
       "    .dataframe tbody tr th {\n",
       "        vertical-align: top;\n",
       "    }\n",
       "\n",
       "    .dataframe thead th {\n",
       "        text-align: right;\n",
       "    }\n",
       "</style>\n",
       "<table border=\"1\" class=\"dataframe\">\n",
       "  <thead>\n",
       "    <tr style=\"text-align: right;\">\n",
       "      <th></th>\n",
       "      <th>document</th>\n",
       "      <th>summary</th>\n",
       "    </tr>\n",
       "  </thead>\n",
       "  <tbody>\n",
       "    <tr>\n",
       "      <th>0</th>\n",
       "      <td>National Archives \\n \\n Yes, it’s that time ag...</td>\n",
       "      <td>– The unemployment rate dropped to 8.2% last m...</td>\n",
       "    </tr>\n",
       "    <tr>\n",
       "      <th>1</th>\n",
       "      <td>LOS ANGELES (AP) — In her first interview sinc...</td>\n",
       "      <td>– Shelly Sterling plans \"eventually\" to divorc...</td>\n",
       "    </tr>\n",
       "    <tr>\n",
       "      <th>2</th>\n",
       "      <td>GAITHERSBURG, Md. (AP) — A small, private jet ...</td>\n",
       "      <td>– A twin-engine Embraer jet that the FAA descr...</td>\n",
       "    </tr>\n",
       "  </tbody>\n",
       "</table>\n",
       "</div>"
      ],
      "text/plain": [
       "                                            document  \\\n",
       "0  National Archives \\n \\n Yes, it’s that time ag...   \n",
       "1  LOS ANGELES (AP) — In her first interview sinc...   \n",
       "2  GAITHERSBURG, Md. (AP) — A small, private jet ...   \n",
       "\n",
       "                                             summary  \n",
       "0  – The unemployment rate dropped to 8.2% last m...  \n",
       "1  – Shelly Sterling plans \"eventually\" to divorc...  \n",
       "2  – A twin-engine Embraer jet that the FAA descr...  "
      ]
     },
     "execution_count": 3,
     "metadata": {},
     "output_type": "execute_result"
    }
   ],
   "source": [
    "df = pd.DataFrame(dataset[\"train\"])\n",
    "print(\"SGH Media Reports dataset dimensions are:\", df.shape)\n",
    "df.head(3)"
   ]
  },
  {
   "cell_type": "markdown",
   "metadata": {},
   "source": [
    "##### 2. Duplicates removal and NULL value checks"
   ]
  },
  {
   "cell_type": "code",
   "execution_count": 4,
   "metadata": {},
   "outputs": [
    {
     "data": {
      "text/plain": [
       "<AxesSubplot:>"
      ]
     },
     "execution_count": 4,
     "metadata": {},
     "output_type": "execute_result"
    },
    {
     "data": {
      "image/png": "[encoded data removed]",
      "text/plain": [
       "<Figure size 2500x1000 with 3 Axes>"
      ]
     },
     "metadata": {},
     "output_type": "display_data"
    }
   ],
   "source": [
    "# Remove duplicates\n",
    "df = df.drop_duplicates()\n",
    "\n",
    "# Drop NAs\n",
    "import missingno as msno\n",
    "msno.bar(df)"
   ]
  },
  {
   "cell_type": "code",
   "execution_count": 5,
   "metadata": {},
   "outputs": [
    {
     "data": {
      "text/html": [
       "<div>\n",
       "<style scoped>\n",
       "    .dataframe tbody tr th:only-of-type {\n",
       "        vertical-align: middle;\n",
       "    }\n",
       "\n",
       "    .dataframe tbody tr th {\n",
       "        vertical-align: top;\n",
       "    }\n",
       "\n",
       "    .dataframe thead th {\n",
       "        text-align: right;\n",
       "    }\n",
       "</style>\n",
       "<table border=\"1\" class=\"dataframe\">\n",
       "  <thead>\n",
       "    <tr style=\"text-align: right;\">\n",
       "      <th></th>\n",
       "      <th>document</th>\n",
       "      <th>summary</th>\n",
       "      <th>article_length</th>\n",
       "      <th>summary_length</th>\n",
       "    </tr>\n",
       "  </thead>\n",
       "  <tbody>\n",
       "    <tr>\n",
       "      <th>0</th>\n",
       "      <td>National Archives \\n \\n Yes, it’s that time ag...</td>\n",
       "      <td>– The unemployment rate dropped to 8.2% last m...</td>\n",
       "      <td>1708</td>\n",
       "      <td>443</td>\n",
       "    </tr>\n",
       "    <tr>\n",
       "      <th>1</th>\n",
       "      <td>LOS ANGELES (AP) — In her first interview sinc...</td>\n",
       "      <td>– Shelly Sterling plans \"eventually\" to divorc...</td>\n",
       "      <td>5353</td>\n",
       "      <td>501</td>\n",
       "    </tr>\n",
       "    <tr>\n",
       "      <th>2</th>\n",
       "      <td>GAITHERSBURG, Md. (AP) — A small, private jet ...</td>\n",
       "      <td>– A twin-engine Embraer jet that the FAA descr...</td>\n",
       "      <td>8010</td>\n",
       "      <td>934</td>\n",
       "    </tr>\n",
       "  </tbody>\n",
       "</table>\n",
       "</div>"
      ],
      "text/plain": [
       "                                            document  \\\n",
       "0  National Archives \\n \\n Yes, it’s that time ag...   \n",
       "1  LOS ANGELES (AP) — In her first interview sinc...   \n",
       "2  GAITHERSBURG, Md. (AP) — A small, private jet ...   \n",
       "\n",
       "                                             summary  article_length  \\\n",
       "0  – The unemployment rate dropped to 8.2% last m...            1708   \n",
       "1  – Shelly Sterling plans \"eventually\" to divorc...            5353   \n",
       "2  – A twin-engine Embraer jet that the FAA descr...            8010   \n",
       "\n",
       "   summary_length  \n",
       "0             443  \n",
       "1             501  \n",
       "2             934  "
      ]
     },
     "execution_count": 5,
     "metadata": {},
     "output_type": "execute_result"
    }
   ],
   "source": [
    "# Visualise the character length of the article and summary bodies\n",
    "df[\"article_length\"] = df[\"document\"].apply(lambda x: len(x))\n",
    "df[\"summary_length\"] = df[\"summary\"].apply(lambda x: len(x))\n",
    "df.head(3)"
   ]
  },
  {
   "cell_type": "markdown",
   "metadata": {},
   "source": [
    "##### 3. EDA"
   ]
  },
  {
   "cell_type": "code",
   "execution_count": 6,
   "metadata": {},
   "outputs": [
    {
     "name": "stdout",
     "output_type": "stream",
     "text": [
      "count     44972.000000\n",
      "mean      11017.722072\n",
      "std       19290.244659\n",
      "min           0.000000\n",
      "25%        4914.000000\n",
      "50%        8145.000000\n",
      "75%       13013.000000\n",
      "max     2916289.000000\n",
      "Name: article_length, dtype: float64\n"
     ]
    }
   ],
   "source": [
    "# Check data spread of media article lengths\n",
    "import seaborn as sns\n",
    "\n",
    "with pd.option_context('float_format', '{:f}'.format):\n",
    "    print(df[\"article_length\"].describe())"
   ]
  },
  {
   "cell_type": "code",
   "execution_count": 7,
   "metadata": {},
   "outputs": [
    {
     "data": {
      "text/html": [
       "<div>\n",
       "<style scoped>\n",
       "    .dataframe tbody tr th:only-of-type {\n",
       "        vertical-align: middle;\n",
       "    }\n",
       "\n",
       "    .dataframe tbody tr th {\n",
       "        vertical-align: top;\n",
       "    }\n",
       "\n",
       "    .dataframe thead th {\n",
       "        text-align: right;\n",
       "    }\n",
       "</style>\n",
       "<table border=\"1\" class=\"dataframe\">\n",
       "  <thead>\n",
       "    <tr style=\"text-align: right;\">\n",
       "      <th></th>\n",
       "      <th>document</th>\n",
       "      <th>summary</th>\n",
       "      <th>article_length</th>\n",
       "      <th>summary_length</th>\n",
       "    </tr>\n",
       "  </thead>\n",
       "  <tbody>\n",
       "    <tr>\n",
       "      <th>453</th>\n",
       "      <td></td>\n",
       "      <td>– An animal welfare officer in Oregon is getti...</td>\n",
       "      <td>0</td>\n",
       "      <td>640</td>\n",
       "    </tr>\n",
       "    <tr>\n",
       "      <th>16290</th>\n",
       "      <td></td>\n",
       "      <td>– A marriage certificate shows hip-hop stars C...</td>\n",
       "      <td>0</td>\n",
       "      <td>738</td>\n",
       "    </tr>\n",
       "    <tr>\n",
       "      <th>16489</th>\n",
       "      <td></td>\n",
       "      <td>– An online retailer has pulled a costume from...</td>\n",
       "      <td>0</td>\n",
       "      <td>1053</td>\n",
       "    </tr>\n",
       "    <tr>\n",
       "      <th>18812</th>\n",
       "      <td></td>\n",
       "      <td>– A would-be thief in a Rio de Janeiro suburb ...</td>\n",
       "      <td>0</td>\n",
       "      <td>652</td>\n",
       "    </tr>\n",
       "    <tr>\n",
       "      <th>19279</th>\n",
       "      <td></td>\n",
       "      <td>– The Philadelphia Flyers have introduced an o...</td>\n",
       "      <td>0</td>\n",
       "      <td>821</td>\n",
       "    </tr>\n",
       "    <tr>\n",
       "      <th>21620</th>\n",
       "      <td></td>\n",
       "      <td>– On last night's Daily Show, Jon Stewart took...</td>\n",
       "      <td>0</td>\n",
       "      <td>792</td>\n",
       "    </tr>\n",
       "    <tr>\n",
       "      <th>30735</th>\n",
       "      <td></td>\n",
       "      <td>– Like a scorned ex-lover purging pics from a ...</td>\n",
       "      <td>0</td>\n",
       "      <td>451</td>\n",
       "    </tr>\n",
       "    <tr>\n",
       "      <th>41993</th>\n",
       "      <td></td>\n",
       "      <td>– Nearly every star attending the Golden Globe...</td>\n",
       "      <td>0</td>\n",
       "      <td>988</td>\n",
       "    </tr>\n",
       "  </tbody>\n",
       "</table>\n",
       "</div>"
      ],
      "text/plain": [
       "      document                                            summary  \\\n",
       "453             – An animal welfare officer in Oregon is getti...   \n",
       "16290           – A marriage certificate shows hip-hop stars C...   \n",
       "16489           – An online retailer has pulled a costume from...   \n",
       "18812           – A would-be thief in a Rio de Janeiro suburb ...   \n",
       "19279           – The Philadelphia Flyers have introduced an o...   \n",
       "21620           – On last night's Daily Show, Jon Stewart took...   \n",
       "30735           – Like a scorned ex-lover purging pics from a ...   \n",
       "41993           – Nearly every star attending the Golden Globe...   \n",
       "\n",
       "       article_length  summary_length  \n",
       "453                 0             640  \n",
       "16290               0             738  \n",
       "16489               0            1053  \n",
       "18812               0             652  \n",
       "19279               0             821  \n",
       "21620               0             792  \n",
       "30735               0             451  \n",
       "41993               0             988  "
      ]
     },
     "execution_count": 7,
     "metadata": {},
     "output_type": "execute_result"
    }
   ],
   "source": [
    "df[df[\"article_length\"]==0] # EDA reveals that eight records with missing data still remain in the dataset"
   ]
  },
  {
   "cell_type": "code",
   "execution_count": 8,
   "metadata": {},
   "outputs": [
    {
     "name": "stdout",
     "output_type": "stream",
     "text": [
      "count     44964.000000\n",
      "mean      11019.682346\n",
      "std       19291.400801\n",
      "min         120.000000\n",
      "25%        4914.750000\n",
      "50%        8148.000000\n",
      "75%       13014.250000\n",
      "max     2916289.000000\n",
      "Name: article_length, dtype: float64\n"
     ]
    },
    {
     "data": {
      "text/plain": [
       "<AxesSubplot:xlabel='article_length', ylabel='Count'>"
      ]
     },
     "execution_count": 8,
     "metadata": {},
     "output_type": "execute_result"
    },
    {
     "data": {
      "image/png": "[encoded data removed]",
      "text/plain": [
       "<Figure size 640x480 with 1 Axes>"
      ]
     },
     "metadata": {},
     "output_type": "display_data"
    }
   ],
   "source": [
    "# Drop records with missing article bodies\n",
    "df = df[df[\"article_length\"]>0]\n",
    "\n",
    "with pd.option_context('float_format', '{:f}'.format):\n",
    "    print(df[\"article_length\"].describe())\n",
    "sns.histplot(data=df, x=\"article_length\", binwidth=1, log_scale=True)"
   ]
  },
  {
   "cell_type": "code",
   "execution_count": 9,
   "metadata": {},
   "outputs": [
    {
     "name": "stdout",
     "output_type": "stream",
     "text": [
      "count    44964.000000\n",
      "mean      1300.398541\n",
      "std        405.876874\n",
      "min        190.000000\n",
      "25%       1010.000000\n",
      "50%       1320.000000\n",
      "75%       1566.000000\n",
      "max       5910.000000\n",
      "Name: summary_length, dtype: float64\n"
     ]
    },
    {
     "data": {
      "text/plain": [
       "<AxesSubplot:xlabel='summary_length', ylabel='Count'>"
      ]
     },
     "execution_count": 9,
     "metadata": {},
     "output_type": "execute_result"
    },
    {
     "data": {
      "image/png": "[encoded data removed]",
      "text/plain": [
       "<Figure size 640x480 with 1 Axes>"
      ]
     },
     "metadata": {},
     "output_type": "display_data"
    }
   ],
   "source": [
    "# Check data spread of media summary lengths\n",
    "print(df[\"summary_length\"].describe())\n",
    "sns.histplot(data=df, x=\"summary_length\", binwidth=100)"
   ]
  },
  {
   "cell_type": "code",
   "execution_count": 10,
   "metadata": {},
   "outputs": [
    {
     "data": {
      "image/png": "[encoded data removed]",
      "text/plain": [
       "<Figure size 750x350 with 1 Axes>"
      ]
     },
     "metadata": {},
     "output_type": "display_data"
    }
   ],
   "source": [
    "# Visualize boxplot of data distribution\n",
    "\n",
    "import matplotlib.pyplot as plt\n",
    "\n",
    "# Set the figure size\n",
    "plt.rcParams[\"figure.figsize\"] = [7.50, 3.50]\n",
    "plt.rcParams[\"figure.autolayout\"] = True\n",
    "\n",
    "# Plot the dataframe\n",
    "ax = df[['article_length', 'summary_length']].plot(kind='box', title='boxplot')\n",
    "\n",
    "# Display the plot\n",
    "plt.show()"
   ]
  },
  {
   "cell_type": "code",
   "execution_count": 11,
   "metadata": {},
   "outputs": [
    {
     "name": "stdout",
     "output_type": "stream",
     "text": [
      "Article Length Q1: 4914.75 characters\n",
      "Article Length Q2: 8148.0 characters\n",
      "Article Length Q3: 13014.25 characters\n",
      "Article Length Q4: 2916289.0 characters\n",
      "Article Length Lower Range: -7234.5 characters\n",
      "Article Length Upper Range: 25163.5 characters\n",
      "Summary Length Q1: 993.0 characters\n",
      "Summary Length Q2: 1296.0 characters\n",
      "Summary Length Q3: 1543.0 characters\n",
      "Summary Length Q4: 5910.0 characters\n",
      "Summary Length Lower Range: 168.0 characters\n",
      "Summary Length Upper Range: 2368.0 characters\n"
     ]
    }
   ],
   "source": [
    "import numpy as np\n",
    "\n",
    "# First quartile (Q1)\n",
    "ArtLenQ1 = np.quantile(df['article_length'], 0.25)\n",
    "\n",
    "# Median (Q2)\n",
    "\n",
    "ArtLenQ2 = np.quantile(df['article_length'], 0.5)\n",
    "  \n",
    "# Third quartile (Q3)\n",
    "ArtLenQ3 = np.quantile(df['article_length'], 0.75)\n",
    "\n",
    "# Fourth quartile (Q3)\n",
    "ArtLenQ4 = np.quantile(df['article_length'], 1.00)\n",
    "  \n",
    "# Interquaritle range (IQR)\n",
    "ArtLenIQR = ArtLenQ3 - ArtLenQ1\n",
    "\n",
    "ArtLen_lower_range = ArtLenQ1 - 1.5 * ArtLenIQR\n",
    "ArtLen_upper_range = ArtLenQ3 + 1.5 * ArtLenIQR\n",
    "ArtLen_outlier_free_list = [x for x in df['article_length'] if ((x > ArtLen_lower_range) & (x < ArtLen_upper_range))]\n",
    "df = df.loc[df['article_length'].isin(ArtLen_outlier_free_list)]\n",
    "\n",
    "print(\"Article Length Q1:\", ArtLenQ1, \"characters\" )\n",
    "print(\"Article Length Q2:\", ArtLenQ2, \"characters\" )\n",
    "print(\"Article Length Q3:\", ArtLenQ3, \"characters\" )\n",
    "print(\"Article Length Q4:\", ArtLenQ4, \"characters\" )\n",
    "print(\"Article Length Lower Range:\", ArtLen_lower_range, \"characters\")\n",
    "print(\"Article Length Upper Range:\", ArtLen_upper_range, \"characters\")\n",
    "\n",
    "# First quartile (Q1)\n",
    "SumLenQ1 = np.quantile(df['summary_length'], 0.25)\n",
    "\n",
    "# Median (Q2)\n",
    "\n",
    "SumLenQ2 = np.quantile(df['summary_length'], 0.5)\n",
    "  \n",
    "# Third quartile (Q3)\n",
    "SumLenQ3 = np.quantile(df['summary_length'], 0.75)\n",
    "\n",
    "# Fourth quartile (Q3)\n",
    "SumLenQ4 = np.quantile(df['summary_length'], 1.00)\n",
    "  \n",
    "# Interquaritle range (IQR)\n",
    "SumLenIQR = SumLenQ3 - SumLenQ1\n",
    "\n",
    "SumLen_lower_range = SumLenQ1 - 1.5 * SumLenIQR\n",
    "SumLen_upper_range = SumLenQ3 + 1.5 * SumLenIQR\n",
    "SumLen_outlier_free_list = [x for x in df['summary_length'] if ((x > SumLen_lower_range) & (x < SumLen_upper_range))]\n",
    "df = df.loc[df['summary_length'].isin(SumLen_outlier_free_list)]\n",
    "\n",
    "print(\"Summary Length Q1:\", SumLenQ1, \"characters\" )\n",
    "print(\"Summary Length Q2:\", SumLenQ2, \"characters\" )\n",
    "print(\"Summary Length Q3:\", SumLenQ3, \"characters\" )\n",
    "print(\"Summary Length Q4:\", SumLenQ4, \"characters\" )\n",
    "print(\"Summary Length Lower Range:\", SumLen_lower_range, \"characters\")\n",
    "print(\"Summary Length Upper Range:\", SumLen_upper_range, \"characters\")"
   ]
  }
 ],
 "metadata": {
  "kernelspec": {
   "display_name": "Python 3.10.6 64-bit",
   "language": "python",
   "name": "python3"
  },
  "language_info": {
   "codemirror_mode": {
    "name": "ipython",
    "version": 3
   },
   "file_extension": ".py",
   "mimetype": "text/x-python",
   "name": "python",
   "nbconvert_exporter": "python",
   "pygments_lexer": "ipython3",
   "version": "3.10.6"
  },
  "orig_nbformat": 4,
  "vscode": {
   "interpreter": {
    "hash": "ad379cd4078744aeb1438aaefd3a929c6f7ac83ee88a4c40a76ee83807593f5f"
   }
  }
 },
 "nbformat": 4,
 "nbformat_minor": 2
}
