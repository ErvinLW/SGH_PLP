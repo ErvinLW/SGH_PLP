{
  "cells": [
    {
      "cell_type": "markdown",
      "metadata": {
        "id": "6Hgw3GTXLLw0"
      },
      "source": [
        "# **Finetuning Longformer Encoder-Decoder (LED) Model** \n",
        "###Trained on SGH Dataset\n",
        "#### Adapted from Source: https://colab.research.google.com/drive/12LjJazBl7Gam0XBPy_y0CTOJZeZ34c2v?usp=sharing"
      ]
    },
    {
      "cell_type": "markdown",
      "metadata": {
        "id": "tZ11Va-qCp96"
      },
      "source": [
        "To check that we are having enough RAM we can run the following command.\n",
        "If the randomely allocated GPU is too small, the above cells can be run \n",
        "to crash the notebook hoping to get a better GPU."
      ]
    },
    {
      "cell_type": "markdown",
      "source": [
        "## Installing packages and loading data"
      ],
      "metadata": {
        "id": "teALXPVlOX32"
      }
    },
    {
      "cell_type": "code",
      "execution_count": null,
      "metadata": {
        "colab": {
          "base_uri": "https://localhost:8080/"
        },
        "id": "o9IkphgF-90-",
        "outputId": "a6affaa1-2fee-47af-b8d8-9b6f851ea3f4"
      },
      "outputs": [
        {
          "name": "stdout",
          "output_type": "stream",
          "text": [
            "Tue Nov  1 22:18:26 2022       \n",
            "+-----------------------------------------------------------------------------+\n",
            "| NVIDIA-SMI 460.32.03    Driver Version: 460.32.03    CUDA Version: 11.2     |\n",
            "|-------------------------------+----------------------+----------------------+\n",
            "| GPU  Name        Persistence-M| Bus-Id        Disp.A | Volatile Uncorr. ECC |\n",
            "| Fan  Temp  Perf  Pwr:Usage/Cap|         Memory-Usage | GPU-Util  Compute M. |\n",
            "|                               |                      |               MIG M. |\n",
            "|===============================+======================+======================|\n",
            "|   0  Tesla T4            Off  | 00000000:00:04.0 Off |                    0 |\n",
            "| N/A   46C    P8    12W /  70W |      0MiB / 15109MiB |      0%      Default |\n",
            "|                               |                      |                  N/A |\n",
            "+-------------------------------+----------------------+----------------------+\n",
            "                                                                               \n",
            "+-----------------------------------------------------------------------------+\n",
            "| Processes:                                                                  |\n",
            "|  GPU   GI   CI        PID   Type   Process name                  GPU Memory |\n",
            "|        ID   ID                                                   Usage      |\n",
            "|=============================================================================|\n",
            "|  No running processes found                                                 |\n",
            "+-----------------------------------------------------------------------------+\n"
          ]
        }
      ],
      "source": [
        "# Checking for Sufficient RAM\n",
        "!nvidia-smi"
      ]
    },
    {
      "cell_type": "code",
      "execution_count": null,
      "metadata": {
        "id": "Pzh-JNaUK3Y_"
      },
      "outputs": [],
      "source": [
        "# Installing packages\n",
        "\n",
        "%%capture\n",
        "!pip install datasets==1.2.1\n",
        "!pip install transformers==4.21.3\n",
        "!pip install rouge_score\n",
        "!pip install dill==0.3.4"
      ]
    },
    {
      "cell_type": "code",
      "execution_count": null,
      "metadata": {
        "colab": {
          "base_uri": "https://localhost:8080/"
        },
        "id": "Gkx0kxbQzIXN",
        "outputId": "9770a638-4ce2-4d0b-a871-c6bcc291dbc2"
      },
      "outputs": [
        {
          "name": "stdout",
          "output_type": "stream",
          "text": [
            "Looking in indexes: https://pypi.org/simple, https://us-python.pkg.dev/colab-wheels/public/simple/\n",
            "Requirement already satisfied: huggingface_hub in /usr/local/lib/python3.7/dist-packages (0.10.1)\n",
            "Requirement already satisfied: pyyaml>=5.1 in /usr/local/lib/python3.7/dist-packages (from huggingface_hub) (6.0)\n",
            "Requirement already satisfied: filelock in /usr/local/lib/python3.7/dist-packages (from huggingface_hub) (3.8.0)\n",
            "Requirement already satisfied: requests in /usr/local/lib/python3.7/dist-packages (from huggingface_hub) (2.23.0)\n",
            "Requirement already satisfied: typing-extensions>=3.7.4.3 in /usr/local/lib/python3.7/dist-packages (from huggingface_hub) (4.1.1)\n",
            "Requirement already satisfied: importlib-metadata in /usr/local/lib/python3.7/dist-packages (from huggingface_hub) (4.13.0)\n",
            "Requirement already satisfied: packaging>=20.9 in /usr/local/lib/python3.7/dist-packages (from huggingface_hub) (21.3)\n",
            "Requirement already satisfied: tqdm in /usr/local/lib/python3.7/dist-packages (from huggingface_hub) (4.49.0)\n",
            "Requirement already satisfied: pyparsing!=3.0.5,>=2.0.2 in /usr/local/lib/python3.7/dist-packages (from packaging>=20.9->huggingface_hub) (3.0.9)\n",
            "Requirement already satisfied: zipp>=0.5 in /usr/local/lib/python3.7/dist-packages (from importlib-metadata->huggingface_hub) (3.10.0)\n",
            "Requirement already satisfied: chardet<4,>=3.0.2 in /usr/local/lib/python3.7/dist-packages (from requests->huggingface_hub) (3.0.4)\n",
            "Requirement already satisfied: certifi>=2017.4.17 in /usr/local/lib/python3.7/dist-packages (from requests->huggingface_hub) (2022.9.24)\n",
            "Requirement already satisfied: idna<3,>=2.5 in /usr/local/lib/python3.7/dist-packages (from requests->huggingface_hub) (2.10)\n",
            "Requirement already satisfied: urllib3!=1.25.0,!=1.25.1,<1.26,>=1.21.1 in /usr/local/lib/python3.7/dist-packages (from requests->huggingface_hub) (1.24.3)\n"
          ]
        }
      ],
      "source": [
        "!pip install huggingface_hub"
      ]
    },
    {
      "cell_type": "code",
      "execution_count": null,
      "metadata": {
        "colab": {
          "base_uri": "https://localhost:8080/",
          "height": 299
        },
        "id": "XqxK87JNy2ZV",
        "outputId": "59d2aef3-e569-45b4-81b9-b8345e8c0ad7"
      },
      "outputs": [
        {
          "name": "stdout",
          "output_type": "stream",
          "text": [
            "Login successful\n",
            "Your token has been saved to /root/.huggingface/token\n"
          ]
        }
      ],
      "source": [
        "from huggingface_hub import notebook_login\n",
        "\n",
        "notebook_login()"
      ]
    },
    {
      "cell_type": "markdown",
      "source": [
        "## Loading data"
      ],
      "metadata": {
        "id": "3IJaAQ1WPXIm"
      }
    },
    {
      "cell_type": "code",
      "execution_count": null,
      "metadata": {
        "id": "ODLQ8MUJfmi4"
      },
      "outputs": [],
      "source": [
        "from datasets import load_dataset, load_metric, Dataset"
      ]
    },
    {
      "cell_type": "code",
      "execution_count": null,
      "metadata": {
        "colab": {
          "base_uri": "https://localhost:8080/"
        },
        "id": "XTYzn3Bpra0J",
        "outputId": "f587e730-0dfc-4b3a-ade5-846ff1b14fca"
      },
      "outputs": [
        {
          "output_type": "stream",
          "name": "stdout",
          "text": [
            "Mounted at /content/drive\n"
          ]
        }
      ],
      "source": [
        "from google.colab import drive\n",
        "drive.mount('/content/drive')"
      ]
    },
    {
      "cell_type": "code",
      "execution_count": null,
      "metadata": {
        "id": "oRf_s-TPdUBv"
      },
      "outputs": [],
      "source": [
        "dfall = pd.read_csv(\"/content/drive/MyDrive/SGH Project/SGH_combined100.csv\", encoding = 'utf_8')"
      ]
    },
    {
      "cell_type": "code",
      "execution_count": null,
      "metadata": {
        "id": "qShNRklXeceE"
      },
      "outputs": [],
      "source": [
        "from sklearn.model_selection import train_test_split\n",
        "dftrain, dftest = train_test_split(dfall, test_size=0.1)"
      ]
    },
    {
      "cell_type": "code",
      "execution_count": null,
      "metadata": {
        "id": "erudBxpkUX41"
      },
      "outputs": [],
      "source": [
        "# Selecting only the necessary columns\n",
        "dftrain = dftrain[['Article','Summary']]\n",
        "dftest = dftest[['Article','Summary']]"
      ]
    },
    {
      "cell_type": "code",
      "execution_count": null,
      "metadata": {
        "id": "L-eAJHwDgOy1"
      },
      "outputs": [],
      "source": [
        "# Dropping index column\n",
        "\n",
        "dftrain = dftrain.reset_index(drop=True)\n",
        "dftest = dftest.reset_index(drop=True)"
      ]
    },
    {
      "cell_type": "code",
      "execution_count": null,
      "metadata": {
        "colab": {
          "base_uri": "https://localhost:8080/",
          "height": 206
        },
        "id": "9suqCk67UHqs",
        "outputId": "69eee040-3826-4f07-9392-5309ace58934"
      },
      "outputs": [
        {
          "output_type": "execute_result",
          "data": {
            "text/plain": [
              "                                             Article  \\\n",
              "0  coronavirus cases over the past few days, the ...   \n",
              "1  Reading the article \"Respect for GPs needed fo...   \n",
              "2  WASHINGTON (REUTERS) - The fast-spreading BA.4...   \n",
              "3  I recently made an insurance claim for a heart...   \n",
              "4  SINGAPORE - There were 12,784 new Covid-19 cas...   \n",
              "\n",
              "                                             Summary  \n",
              "0  On 30 Sep, MOH said that there had been a 35% ...  \n",
              "1  Reading the article \"Respect for GPs needed fo...  \n",
              "2  The US Centers for Disease Control and Prevent...  \n",
              "3  Mr James Koh recently made an insurance claim ...  \n",
              "4  Singapore recorded 12,784 new COVID-19 cases o...  "
            ],
            "text/html": [
              "\n",
              "  <div id=\"df-f3c0c718-91e1-4ec6-b85e-1d52eb6d04d7\">\n",
              "    <div class=\"colab-df-container\">\n",
              "      <div>\n",
              "<style scoped>\n",
              "    .dataframe tbody tr th:only-of-type {\n",
              "        vertical-align: middle;\n",
              "    }\n",
              "\n",
              "    .dataframe tbody tr th {\n",
              "        vertical-align: top;\n",
              "    }\n",
              "\n",
              "    .dataframe thead th {\n",
              "        text-align: right;\n",
              "    }\n",
              "</style>\n",
              "<table border=\"1\" class=\"dataframe\">\n",
              "  <thead>\n",
              "    <tr style=\"text-align: right;\">\n",
              "      <th></th>\n",
              "      <th>Article</th>\n",
              "      <th>Summary</th>\n",
              "    </tr>\n",
              "  </thead>\n",
              "  <tbody>\n",
              "    <tr>\n",
              "      <th>0</th>\n",
              "      <td>coronavirus cases over the past few days, the ...</td>\n",
              "      <td>On 30 Sep, MOH said that there had been a 35% ...</td>\n",
              "    </tr>\n",
              "    <tr>\n",
              "      <th>1</th>\n",
              "      <td>Reading the article \"Respect for GPs needed fo...</td>\n",
              "      <td>Reading the article \"Respect for GPs needed fo...</td>\n",
              "    </tr>\n",
              "    <tr>\n",
              "      <th>2</th>\n",
              "      <td>WASHINGTON (REUTERS) - The fast-spreading BA.4...</td>\n",
              "      <td>The US Centers for Disease Control and Prevent...</td>\n",
              "    </tr>\n",
              "    <tr>\n",
              "      <th>3</th>\n",
              "      <td>I recently made an insurance claim for a heart...</td>\n",
              "      <td>Mr James Koh recently made an insurance claim ...</td>\n",
              "    </tr>\n",
              "    <tr>\n",
              "      <th>4</th>\n",
              "      <td>SINGAPORE - There were 12,784 new Covid-19 cas...</td>\n",
              "      <td>Singapore recorded 12,784 new COVID-19 cases o...</td>\n",
              "    </tr>\n",
              "  </tbody>\n",
              "</table>\n",
              "</div>\n",
              "      <button class=\"colab-df-convert\" onclick=\"convertToInteractive('df-f3c0c718-91e1-4ec6-b85e-1d52eb6d04d7')\"\n",
              "              title=\"Convert this dataframe to an interactive table.\"\n",
              "              style=\"display:none;\">\n",
              "        \n",
              "  <svg xmlns=\"http://www.w3.org/2000/svg\" height=\"24px\"viewBox=\"0 0 24 24\"\n",
              "       width=\"24px\">\n",
              "    <path d=\"M0 0h24v24H0V0z\" fill=\"none\"/>\n",
              "    <path d=\"M18.56 5.44l.94 2.06.94-2.06 2.06-.94-2.06-.94-.94-2.06-.94 2.06-2.06.94zm-11 1L8.5 8.5l.94-2.06 2.06-.94-2.06-.94L8.5 2.5l-.94 2.06-2.06.94zm10 10l.94 2.06.94-2.06 2.06-.94-2.06-.94-.94-2.06-.94 2.06-2.06.94z\"/><path d=\"M17.41 7.96l-1.37-1.37c-.4-.4-.92-.59-1.43-.59-.52 0-1.04.2-1.43.59L10.3 9.45l-7.72 7.72c-.78.78-.78 2.05 0 2.83L4 21.41c.39.39.9.59 1.41.59.51 0 1.02-.2 1.41-.59l7.78-7.78 2.81-2.81c.8-.78.8-2.07 0-2.86zM5.41 20L4 18.59l7.72-7.72 1.47 1.35L5.41 20z\"/>\n",
              "  </svg>\n",
              "      </button>\n",
              "      \n",
              "  <style>\n",
              "    .colab-df-container {\n",
              "      display:flex;\n",
              "      flex-wrap:wrap;\n",
              "      gap: 12px;\n",
              "    }\n",
              "\n",
              "    .colab-df-convert {\n",
              "      background-color: #E8F0FE;\n",
              "      border: none;\n",
              "      border-radius: 50%;\n",
              "      cursor: pointer;\n",
              "      display: none;\n",
              "      fill: #1967D2;\n",
              "      height: 32px;\n",
              "      padding: 0 0 0 0;\n",
              "      width: 32px;\n",
              "    }\n",
              "\n",
              "    .colab-df-convert:hover {\n",
              "      background-color: #E2EBFA;\n",
              "      box-shadow: 0px 1px 2px rgba(60, 64, 67, 0.3), 0px 1px 3px 1px rgba(60, 64, 67, 0.15);\n",
              "      fill: #174EA6;\n",
              "    }\n",
              "\n",
              "    [theme=dark] .colab-df-convert {\n",
              "      background-color: #3B4455;\n",
              "      fill: #D2E3FC;\n",
              "    }\n",
              "\n",
              "    [theme=dark] .colab-df-convert:hover {\n",
              "      background-color: #434B5C;\n",
              "      box-shadow: 0px 1px 3px 1px rgba(0, 0, 0, 0.15);\n",
              "      filter: drop-shadow(0px 1px 2px rgba(0, 0, 0, 0.3));\n",
              "      fill: #FFFFFF;\n",
              "    }\n",
              "  </style>\n",
              "\n",
              "      <script>\n",
              "        const buttonEl =\n",
              "          document.querySelector('#df-f3c0c718-91e1-4ec6-b85e-1d52eb6d04d7 button.colab-df-convert');\n",
              "        buttonEl.style.display =\n",
              "          google.colab.kernel.accessAllowed ? 'block' : 'none';\n",
              "\n",
              "        async function convertToInteractive(key) {\n",
              "          const element = document.querySelector('#df-f3c0c718-91e1-4ec6-b85e-1d52eb6d04d7');\n",
              "          const dataTable =\n",
              "            await google.colab.kernel.invokeFunction('convertToInteractive',\n",
              "                                                     [key], {});\n",
              "          if (!dataTable) return;\n",
              "\n",
              "          const docLinkHtml = 'Like what you see? Visit the ' +\n",
              "            '<a target=\"_blank\" href=https://colab.research.google.com/notebooks/data_table.ipynb>data table notebook</a>'\n",
              "            + ' to learn more about interactive tables.';\n",
              "          element.innerHTML = '';\n",
              "          dataTable['output_type'] = 'display_data';\n",
              "          await google.colab.output.renderOutput(dataTable, element);\n",
              "          const docLink = document.createElement('div');\n",
              "          docLink.innerHTML = docLinkHtml;\n",
              "          element.appendChild(docLink);\n",
              "        }\n",
              "      </script>\n",
              "    </div>\n",
              "  </div>\n",
              "  "
            ]
          },
          "metadata": {},
          "execution_count": 11
        }
      ],
      "source": [
        "dftrain.head(5)"
      ]
    },
    {
      "cell_type": "code",
      "execution_count": null,
      "metadata": {
        "colab": {
          "base_uri": "https://localhost:8080/",
          "height": 206
        },
        "id": "i_ULDCbpUS7z",
        "outputId": "0d78d5db-fefc-4d50-c4ec-acc26a19ce7a"
      },
      "outputs": [
        {
          "output_type": "execute_result",
          "data": {
            "text/plain": [
              "                                             Article  \\\n",
              "0  SINGAPORE - For the next six weeks, cyclists w...   \n",
              "1  SINGAPORE: It has been more than five months s...   \n",
              "2  SINGAPORE - Traditional Chinese medicine (TCM)...   \n",
              "3  SINGAPORE - For the first time, Singapore will...   \n",
              "4  SINGAPORE - Senior citizens in the Beo Crescen...   \n",
              "\n",
              "                                             Summary  \n",
              "0  ST (10 Jul) reported that over the next six we...  \n",
              "1  Tanglin Halt elderly residents who moved to Da...  \n",
              "2  Min Ong said in Parliament on 5 Oct that Tradi...  \n",
              "3  On 6 Jul, Minister Ong said that for the first...  \n",
              "4  SGH signed a Collaborative Agreement with Thye...  "
            ],
            "text/html": [
              "\n",
              "  <div id=\"df-519e2ea3-1cfe-4a40-9f81-b4670f673971\">\n",
              "    <div class=\"colab-df-container\">\n",
              "      <div>\n",
              "<style scoped>\n",
              "    .dataframe tbody tr th:only-of-type {\n",
              "        vertical-align: middle;\n",
              "    }\n",
              "\n",
              "    .dataframe tbody tr th {\n",
              "        vertical-align: top;\n",
              "    }\n",
              "\n",
              "    .dataframe thead th {\n",
              "        text-align: right;\n",
              "    }\n",
              "</style>\n",
              "<table border=\"1\" class=\"dataframe\">\n",
              "  <thead>\n",
              "    <tr style=\"text-align: right;\">\n",
              "      <th></th>\n",
              "      <th>Article</th>\n",
              "      <th>Summary</th>\n",
              "    </tr>\n",
              "  </thead>\n",
              "  <tbody>\n",
              "    <tr>\n",
              "      <th>0</th>\n",
              "      <td>SINGAPORE - For the next six weeks, cyclists w...</td>\n",
              "      <td>ST (10 Jul) reported that over the next six we...</td>\n",
              "    </tr>\n",
              "    <tr>\n",
              "      <th>1</th>\n",
              "      <td>SINGAPORE: It has been more than five months s...</td>\n",
              "      <td>Tanglin Halt elderly residents who moved to Da...</td>\n",
              "    </tr>\n",
              "    <tr>\n",
              "      <th>2</th>\n",
              "      <td>SINGAPORE - Traditional Chinese medicine (TCM)...</td>\n",
              "      <td>Min Ong said in Parliament on 5 Oct that Tradi...</td>\n",
              "    </tr>\n",
              "    <tr>\n",
              "      <th>3</th>\n",
              "      <td>SINGAPORE - For the first time, Singapore will...</td>\n",
              "      <td>On 6 Jul, Minister Ong said that for the first...</td>\n",
              "    </tr>\n",
              "    <tr>\n",
              "      <th>4</th>\n",
              "      <td>SINGAPORE - Senior citizens in the Beo Crescen...</td>\n",
              "      <td>SGH signed a Collaborative Agreement with Thye...</td>\n",
              "    </tr>\n",
              "  </tbody>\n",
              "</table>\n",
              "</div>\n",
              "      <button class=\"colab-df-convert\" onclick=\"convertToInteractive('df-519e2ea3-1cfe-4a40-9f81-b4670f673971')\"\n",
              "              title=\"Convert this dataframe to an interactive table.\"\n",
              "              style=\"display:none;\">\n",
              "        \n",
              "  <svg xmlns=\"http://www.w3.org/2000/svg\" height=\"24px\"viewBox=\"0 0 24 24\"\n",
              "       width=\"24px\">\n",
              "    <path d=\"M0 0h24v24H0V0z\" fill=\"none\"/>\n",
              "    <path d=\"M18.56 5.44l.94 2.06.94-2.06 2.06-.94-2.06-.94-.94-2.06-.94 2.06-2.06.94zm-11 1L8.5 8.5l.94-2.06 2.06-.94-2.06-.94L8.5 2.5l-.94 2.06-2.06.94zm10 10l.94 2.06.94-2.06 2.06-.94-2.06-.94-.94-2.06-.94 2.06-2.06.94z\"/><path d=\"M17.41 7.96l-1.37-1.37c-.4-.4-.92-.59-1.43-.59-.52 0-1.04.2-1.43.59L10.3 9.45l-7.72 7.72c-.78.78-.78 2.05 0 2.83L4 21.41c.39.39.9.59 1.41.59.51 0 1.02-.2 1.41-.59l7.78-7.78 2.81-2.81c.8-.78.8-2.07 0-2.86zM5.41 20L4 18.59l7.72-7.72 1.47 1.35L5.41 20z\"/>\n",
              "  </svg>\n",
              "      </button>\n",
              "      \n",
              "  <style>\n",
              "    .colab-df-container {\n",
              "      display:flex;\n",
              "      flex-wrap:wrap;\n",
              "      gap: 12px;\n",
              "    }\n",
              "\n",
              "    .colab-df-convert {\n",
              "      background-color: #E8F0FE;\n",
              "      border: none;\n",
              "      border-radius: 50%;\n",
              "      cursor: pointer;\n",
              "      display: none;\n",
              "      fill: #1967D2;\n",
              "      height: 32px;\n",
              "      padding: 0 0 0 0;\n",
              "      width: 32px;\n",
              "    }\n",
              "\n",
              "    .colab-df-convert:hover {\n",
              "      background-color: #E2EBFA;\n",
              "      box-shadow: 0px 1px 2px rgba(60, 64, 67, 0.3), 0px 1px 3px 1px rgba(60, 64, 67, 0.15);\n",
              "      fill: #174EA6;\n",
              "    }\n",
              "\n",
              "    [theme=dark] .colab-df-convert {\n",
              "      background-color: #3B4455;\n",
              "      fill: #D2E3FC;\n",
              "    }\n",
              "\n",
              "    [theme=dark] .colab-df-convert:hover {\n",
              "      background-color: #434B5C;\n",
              "      box-shadow: 0px 1px 3px 1px rgba(0, 0, 0, 0.15);\n",
              "      filter: drop-shadow(0px 1px 2px rgba(0, 0, 0, 0.3));\n",
              "      fill: #FFFFFF;\n",
              "    }\n",
              "  </style>\n",
              "\n",
              "      <script>\n",
              "        const buttonEl =\n",
              "          document.querySelector('#df-519e2ea3-1cfe-4a40-9f81-b4670f673971 button.colab-df-convert');\n",
              "        buttonEl.style.display =\n",
              "          google.colab.kernel.accessAllowed ? 'block' : 'none';\n",
              "\n",
              "        async function convertToInteractive(key) {\n",
              "          const element = document.querySelector('#df-519e2ea3-1cfe-4a40-9f81-b4670f673971');\n",
              "          const dataTable =\n",
              "            await google.colab.kernel.invokeFunction('convertToInteractive',\n",
              "                                                     [key], {});\n",
              "          if (!dataTable) return;\n",
              "\n",
              "          const docLinkHtml = 'Like what you see? Visit the ' +\n",
              "            '<a target=\"_blank\" href=https://colab.research.google.com/notebooks/data_table.ipynb>data table notebook</a>'\n",
              "            + ' to learn more about interactive tables.';\n",
              "          element.innerHTML = '';\n",
              "          dataTable['output_type'] = 'display_data';\n",
              "          await google.colab.output.renderOutput(dataTable, element);\n",
              "          const docLink = document.createElement('div');\n",
              "          docLink.innerHTML = docLinkHtml;\n",
              "          element.appendChild(docLink);\n",
              "        }\n",
              "      </script>\n",
              "    </div>\n",
              "  </div>\n",
              "  "
            ]
          },
          "metadata": {},
          "execution_count": 12
        }
      ],
      "source": [
        "dftest.head(5)"
      ]
    },
    {
      "cell_type": "code",
      "execution_count": null,
      "metadata": {
        "id": "NUu8A-H7OM2D"
      },
      "outputs": [],
      "source": [
        "train_dataset = Dataset.from_pandas(dftrain, split = \"train\")"
      ]
    },
    {
      "cell_type": "code",
      "execution_count": null,
      "metadata": {
        "id": "Sk3q96HqU5Mu"
      },
      "outputs": [],
      "source": [
        "val_dataset = Dataset.from_pandas(dftest, split = \"validation\")"
      ]
    },
    {
      "cell_type": "code",
      "execution_count": null,
      "metadata": {
        "colab": {
          "base_uri": "https://localhost:8080/"
        },
        "id": "nutIfcRWUvLZ",
        "outputId": "9bd52c4d-b790-4024-fa79-8f7187a99194"
      },
      "outputs": [
        {
          "output_type": "execute_result",
          "data": {
            "text/plain": [
              "Dataset({\n",
              "    features: ['Article', 'Summary'],\n",
              "    num_rows: 86\n",
              "})"
            ]
          },
          "metadata": {},
          "execution_count": 21
        }
      ],
      "source": [
        "train_dataset"
      ]
    },
    {
      "cell_type": "code",
      "execution_count": null,
      "metadata": {
        "colab": {
          "base_uri": "https://localhost:8080/"
        },
        "id": "zqi3aNGYVEVo",
        "outputId": "6ca8a8c1-e5f6-4e14-f07a-3b677c5f2d66"
      },
      "outputs": [
        {
          "output_type": "execute_result",
          "data": {
            "text/plain": [
              "Dataset({\n",
              "    features: ['Article', 'Summary'],\n",
              "    num_rows: 10\n",
              "})"
            ]
          },
          "metadata": {},
          "execution_count": 22
        }
      ],
      "source": [
        "val_dataset"
      ]
    },
    {
      "cell_type": "code",
      "execution_count": null,
      "metadata": {
        "colab": {
          "base_uri": "https://localhost:8080/",
          "height": 127
        },
        "id": "XWWyhcISbifx",
        "outputId": "a38e5cfb-c2d5-40e5-dfd2-dc0e7f347129"
      },
      "outputs": [
        {
          "output_type": "execute_result",
          "data": {
            "text/plain": [
              "'Reading the article \"Respect for GPs needed for Healthier SG\\'s big shift to preventive care, say MPs\" (Oct 4), I recalled my family\\'s experience with a caring and dedicated general practitioner.\\r\\n\\r\\nThis GP went beyond the call of duty.\\r\\n\\r\\nHe always called to follow up after each visit made by my elderly mother, who has several health problems.\\r\\n\\r\\n\\r\\nADVERTISING\\r\\n\\r\\n\\r\\nMy children were comfortable seeing him, and he always made the correct diagnosis.\\r\\n\\r\\nWe went to him for a few years before he moved to another clinic.\\r\\n\\r\\nEven though he works at a clinic that is farther away now, we are contemplating whether to continue seeing him.\\r\\n\\r\\nMany Singaporeans form good relationships with their GPs who have gained their trust.\\r\\n\\r\\nIssues may sometimes arise, however, when GPs need to refer patients to public hospitals.\\r\\n\\r\\nOur GP once referred my mother to a hospital, with a detailed letter on what he could diagnose at his level of care.\\r\\n\\r\\nBut I found the hospital\\'s care inadequate, and my mother had to be re-admitted within a week of being discharged.\\r\\n\\r\\nI could not confirm from the hospital staff that our GP\\'s note had been read, and when I brought this up, the staff took steps to ensure greater care during her second stay.\\r\\n\\r\\nThe partnership between GPs, who form the front line in our healthcare system, and hospitals, where more complex and serious cases are referred to, needs to be a good one.\\r\\n\\r\\nHospitals need to respect the role GPs play in ensuring our healthcare system works well.\\r\\n\\r\\nVivien Goh Choon Lian'"
            ],
            "application/vnd.google.colaboratory.intrinsic+json": {
              "type": "string"
            }
          },
          "metadata": {},
          "execution_count": 24
        }
      ],
      "source": [
        "train_dataset['Article'][1]"
      ]
    },
    {
      "cell_type": "code",
      "execution_count": null,
      "metadata": {
        "colab": {
          "base_uri": "https://localhost:8080/",
          "height": 109
        },
        "id": "cFn3KiT6zxrE",
        "outputId": "6bc417e2-ca23-4b79-e1f2-1b2341be8316"
      },
      "outputs": [
        {
          "output_type": "execute_result",
          "data": {
            "text/plain": [
              "'Reading the article \"Respect for GPs needed for Healthier SG\\'s big shift to preventive care, say MPs\" (4 Oct), Ms Vivien Goh Choon Lian recounted her family\\'s experience with a caring and dedicated General Practitioner (GP) who went beyond the call of duty. However, this GP moved to another clinic further away, and her family was contemplating whether to continue seeing him. The writer said many Singaporeans form good relationships with their GPs who have gained their trust. While issues may sometimes arise when GPs need to refer patients to public hospitals, the partnership between GPs and hospitals needed to be a good one. The writer noted that hospitals needed to respect the role GPs play in ensuring the healthcare system works well.'"
            ],
            "application/vnd.google.colaboratory.intrinsic+json": {
              "type": "string"
            }
          },
          "metadata": {},
          "execution_count": 25
        }
      ],
      "source": [
        "train_dataset['Summary'][1]"
      ]
    },
    {
      "cell_type": "markdown",
      "source": [
        "## Data preprocessing"
      ],
      "metadata": {
        "id": "BzfVA7oBQDnm"
      }
    },
    {
      "cell_type": "code",
      "execution_count": null,
      "metadata": {
        "id": "R-gvC8jiYtS_"
      },
      "outputs": [],
      "source": [
        "from transformers import AutoTokenizer"
      ]
    },
    {
      "cell_type": "markdown",
      "metadata": {
        "id": "Gst7xqXECbRc"
      },
      "source": [
        " and load the tokenizer"
      ]
    },
    {
      "cell_type": "code",
      "execution_count": null,
      "metadata": {
        "id": "jpUr9QeebZ-n",
        "colab": {
          "base_uri": "https://localhost:8080/",
          "height": 268,
          "referenced_widgets": [
            "fd923d48b9704edc97e6a315ceca7b46",
            "ab2c61f5d3d84f388d7ce31f15ee9cf0",
            "5f940b943f504319b2db005edf9fea7e",
            "7d6173aca40646e8a18473ef66bfdf8f",
            "24355c9458164c9d97f8670da1999577",
            "9087fbdca83c4c1f951aa8b3d94b3532",
            "d9c6b30ee4a943c388ae967598e17a46",
            "61e3be15fae94ff1a06c3f6095787781",
            "76277d59372549a9862ee22d18984025",
            "44d361dc125c42b6b125cef555796759",
            "21baa8a8a95942918fd940be1c8d18da",
            "07f6426196724e7c85fe250e8c3ce5a1",
            "2e16a06b27924d80b910f48cc39770d1",
            "1478266801494cb8b3493d3c9218a65c",
            "3e42d542016942f7ac484ce90087130e",
            "a8217d0104ce4bce92eb78141fdf1fda",
            "3255173e1da0416ea3a705c9a4ed2806",
            "2653037cd5144ca7a72746de7549a504",
            "c712c0e581134e2091d9fc308036faf3",
            "fc9318bd41e84fa3babf77576b90a29b",
            "ad24f93a0a9046c8a1ad5cfade57e47e",
            "9b07899234504704b1bf07f3171cce14",
            "ac88ab1dfe8f40fa87fff865dbda3fbd",
            "3f2b672d0e264f35a27acbb897f01242",
            "269528cc37ab4e51bb408e060c21ba35",
            "6f1eb45c955449d4bf2de45613ef6afe",
            "5937143b2bf44d5baa719e6032ce2212",
            "ef6127c8490245559aabdf3420b8c5c4",
            "7fc42183a7fd482aa9758b2a9b60551c",
            "cdbef739814649a080d397652f567bd3",
            "65df0cf1b74642a08db2d2267dd15077",
            "d3dd3217f8b547fface1a9521cf70079",
            "a4f0f6775563443a885d993f3207dc92",
            "f726af75a3ef48dc835d363c1961f053",
            "00968f6ef3b84d9b965f1a49fc95b264",
            "6c2e80ba2c7f4ff1b2d156eee34d6c8b",
            "abf0b57310da4e259d5b3b7d5ff50648",
            "4f2fcff4f9f9468a8479f803ee1e309e",
            "048d918ae00948418d40d14daa600f27",
            "217b5a9cc44e43749167d26417028520"
          ]
        },
        "outputId": "6b65b1e7-44c7-4370-e537-06624696b883"
      },
      "outputs": [
        {
          "output_type": "display_data",
          "data": {
            "text/plain": [
              "HBox(children=(FloatProgress(value=0.0, description='Downloading tokenizer_config.json', max=27.0, style=Progr…"
            ],
            "application/vnd.jupyter.widget-view+json": {
              "version_major": 2,
              "version_minor": 0,
              "model_id": "fd923d48b9704edc97e6a315ceca7b46"
            }
          },
          "metadata": {}
        },
        {
          "output_type": "stream",
          "name": "stdout",
          "text": [
            "\n"
          ]
        },
        {
          "output_type": "display_data",
          "data": {
            "text/plain": [
              "HBox(children=(FloatProgress(value=0.0, description='Downloading config.json', max=1092.0, style=ProgressStyle…"
            ],
            "application/vnd.jupyter.widget-view+json": {
              "version_major": 2,
              "version_minor": 0,
              "model_id": "76277d59372549a9862ee22d18984025"
            }
          },
          "metadata": {}
        },
        {
          "output_type": "stream",
          "name": "stdout",
          "text": [
            "\n"
          ]
        },
        {
          "output_type": "display_data",
          "data": {
            "text/plain": [
              "HBox(children=(FloatProgress(value=0.0, description='Downloading vocab.json', max=898822.0, style=ProgressStyl…"
            ],
            "application/vnd.jupyter.widget-view+json": {
              "version_major": 2,
              "version_minor": 0,
              "model_id": "3255173e1da0416ea3a705c9a4ed2806"
            }
          },
          "metadata": {}
        },
        {
          "output_type": "stream",
          "name": "stdout",
          "text": [
            "\n"
          ]
        },
        {
          "output_type": "display_data",
          "data": {
            "text/plain": [
              "HBox(children=(FloatProgress(value=0.0, description='Downloading merges.txt', max=456318.0, style=ProgressStyl…"
            ],
            "application/vnd.jupyter.widget-view+json": {
              "version_major": 2,
              "version_minor": 0,
              "model_id": "269528cc37ab4e51bb408e060c21ba35"
            }
          },
          "metadata": {}
        },
        {
          "output_type": "stream",
          "name": "stdout",
          "text": [
            "\n"
          ]
        },
        {
          "output_type": "display_data",
          "data": {
            "text/plain": [
              "HBox(children=(FloatProgress(value=0.0, description='Downloading special_tokens_map.json', max=772.0, style=Pr…"
            ],
            "application/vnd.jupyter.widget-view+json": {
              "version_major": 2,
              "version_minor": 0,
              "model_id": "a4f0f6775563443a885d993f3207dc92"
            }
          },
          "metadata": {}
        },
        {
          "output_type": "stream",
          "name": "stdout",
          "text": [
            "\n"
          ]
        }
      ],
      "source": [
        "# Loading LED base instead of LED large model as it requires less GPU RAM to run.\n",
        "tokenizer = AutoTokenizer.from_pretrained(\"allenai/led-base-16384\")"
      ]
    },
    {
      "cell_type": "code",
      "execution_count": null,
      "metadata": {
        "id": "Nbb24Uh-Y4xO"
      },
      "outputs": [],
      "source": [
        "# Max input length is set to the median length of SGH articles.  Datasets will be tokenized to max_input_length.\n",
        "max_input_length = 3072\n",
        "max_output_length = 512\n",
        "batch_size = 4"
      ]
    },
    {
      "cell_type": "code",
      "execution_count": null,
      "metadata": {
        "id": "lEcAaZhNY8ge"
      },
      "outputs": [],
      "source": [
        "# Create function to tokenize inputs and labels, create attention and global attention masks.\n",
        "def process_data_to_model_inputs(batch):\n",
        "    # tokenize the inputs and labels\n",
        "    inputs = tokenizer(\n",
        "        batch[\"Article\"],\n",
        "        padding=\"max_length\",\n",
        "        truncation=True,\n",
        "        max_length=max_input_length,\n",
        "    )\n",
        "    outputs = tokenizer(\n",
        "        batch[\"Summary\"],\n",
        "        padding=\"max_length\",\n",
        "        truncation=True,\n",
        "        max_length=max_output_length,\n",
        "    )\n",
        "\n",
        "    batch[\"input_ids\"] = inputs.input_ids\n",
        "    batch[\"attention_mask\"] = inputs.attention_mask\n",
        "\n",
        "    # create 0 global_attention_mask lists\n",
        "    batch[\"global_attention_mask\"] = len(batch[\"input_ids\"]) * [\n",
        "        [0 for _ in range(len(batch[\"input_ids\"][0]))]\n",
        "    ]\n",
        "\n",
        "    # since above lists are references, the following line changes the 0 index for all samples\n",
        "    batch[\"global_attention_mask\"][0][0] = 1\n",
        "    batch[\"labels\"] = outputs.input_ids\n",
        "\n",
        "    # We have to make sure that the PAD token is ignored\n",
        "    batch[\"labels\"] = [\n",
        "        [-100 if token == tokenizer.pad_token_id else token for token in labels]\n",
        "        for labels in batch[\"labels\"]\n",
        "    ]\n",
        "\n",
        "    return batch"
      ]
    },
    {
      "cell_type": "code",
      "execution_count": null,
      "metadata": {
        "colab": {
          "base_uri": "https://localhost:8080/",
          "height": 67,
          "referenced_widgets": [
            "c1ee75137b394f0e85e579f9b3b8ea30",
            "341f7cdc1f7c48ecb087015f14663015",
            "bec655003f82463eaba595dba125b465",
            "c06a33e79d364c25ba558465340e8d70",
            "82f44726ee8c487ea47eb912b0a05958",
            "28724018a8684ce2969a799c07dcceec",
            "05fb59d324034287b4c760efa60610c7",
            "7b14d82a022a490f84dadcd5b8bbc8ea"
          ]
        },
        "id": "8RClMjZOZCPO",
        "outputId": "97495e2e-72b9-4428-b3e2-fdd64e20f7ae"
      },
      "outputs": [
        {
          "output_type": "display_data",
          "data": {
            "text/plain": [
              "HBox(children=(FloatProgress(value=0.0, max=22.0), HTML(value='')))"
            ],
            "application/vnd.jupyter.widget-view+json": {
              "version_major": 2,
              "version_minor": 0,
              "model_id": "c1ee75137b394f0e85e579f9b3b8ea30"
            }
          },
          "metadata": {}
        },
        {
          "output_type": "stream",
          "name": "stdout",
          "text": [
            "\n"
          ]
        }
      ],
      "source": [
        "# Preprocessing training dataset\n",
        "train_dataset = train_dataset.map(\n",
        "    process_data_to_model_inputs,\n",
        "    batched=True,\n",
        "    batch_size=batch_size,\n",
        "    remove_columns=[\"Article\", \"Summary\"],\n",
        ")"
      ]
    },
    {
      "cell_type": "code",
      "execution_count": null,
      "metadata": {
        "colab": {
          "base_uri": "https://localhost:8080/",
          "height": 67,
          "referenced_widgets": [
            "28ee6032b298484ca8d3318c8a5de3e2",
            "ddba86eefac4493583b28ea849f8b258",
            "a3cfc1db9e4c40b2993ab7b99ba48d79",
            "33262dfa9ec249088021b8d001f606d6",
            "ee3365a03dfe4a8d92ac8f8874f17209",
            "28dfd26721d24a34a9c4e34797e521de",
            "88df2234d5b2492e9f6a3c3b697302bd",
            "a00530889f744fa0b528594b7cfeb5c7"
          ]
        },
        "id": "Gy_9DCocZD5G",
        "outputId": "228c024b-9047-4b8b-c7d2-2c8ceea4dec4"
      },
      "outputs": [
        {
          "output_type": "display_data",
          "data": {
            "text/plain": [
              "HBox(children=(FloatProgress(value=0.0, max=3.0), HTML(value='')))"
            ],
            "application/vnd.jupyter.widget-view+json": {
              "version_major": 2,
              "version_minor": 0,
              "model_id": "28ee6032b298484ca8d3318c8a5de3e2"
            }
          },
          "metadata": {}
        },
        {
          "output_type": "stream",
          "name": "stdout",
          "text": [
            "\n"
          ]
        }
      ],
      "source": [
        "# Preprocessing validation dataset\n",
        "val_dataset = val_dataset.map(\n",
        "    process_data_to_model_inputs,\n",
        "    batched=True,\n",
        "    batch_size=batch_size,\n",
        "    remove_columns=[\"Article\", \"Summary\"],\n",
        ")"
      ]
    },
    {
      "cell_type": "code",
      "execution_count": null,
      "metadata": {
        "id": "ci2QYHCMZiNO"
      },
      "outputs": [],
      "source": [
        "# Convert datasets to PyTorch format\n",
        "train_dataset.set_format(\n",
        "    type=\"torch\",\n",
        "    columns=[\"input_ids\", \"attention_mask\", \"global_attention_mask\", \"labels\"],\n",
        ")\n",
        "val_dataset.set_format(\n",
        "    type=\"torch\",\n",
        "    columns=[\"input_ids\", \"attention_mask\", \"global_attention_mask\", \"labels\"],\n",
        ")"
      ]
    },
    {
      "cell_type": "code",
      "execution_count": null,
      "metadata": {
        "colab": {
          "base_uri": "https://localhost:8080/"
        },
        "id": "GgkzIZurWU7X",
        "outputId": "7bb45c39-9acd-4b36-9538-b01d1f871630"
      },
      "outputs": [
        {
          "output_type": "execute_result",
          "data": {
            "text/plain": [
              "Dataset({\n",
              "    features: ['attention_mask', 'global_attention_mask', 'input_ids', 'labels'],\n",
              "    num_rows: 86\n",
              "})"
            ]
          },
          "metadata": {},
          "execution_count": 34
        }
      ],
      "source": [
        "train_dataset"
      ]
    },
    {
      "cell_type": "code",
      "execution_count": null,
      "metadata": {
        "colab": {
          "base_uri": "https://localhost:8080/"
        },
        "id": "DQtZ8hjxWXKn",
        "outputId": "72e9ca31-869e-4e31-b2ea-4d7b9ec1f066"
      },
      "outputs": [
        {
          "output_type": "execute_result",
          "data": {
            "text/plain": [
              "Dataset({\n",
              "    features: ['attention_mask', 'global_attention_mask', 'input_ids', 'labels'],\n",
              "    num_rows: 10\n",
              "})"
            ]
          },
          "metadata": {},
          "execution_count": 35
        }
      ],
      "source": [
        "val_dataset"
      ]
    },
    {
      "cell_type": "markdown",
      "source": [
        "## Loading model and metrics"
      ],
      "metadata": {
        "id": "SQWHkwnPQiQW"
      }
    },
    {
      "cell_type": "code",
      "execution_count": null,
      "metadata": {
        "id": "SZf_8QXJacIc"
      },
      "outputs": [],
      "source": [
        "from transformers import AutoModelForSeq2SeqLM"
      ]
    },
    {
      "cell_type": "code",
      "execution_count": null,
      "metadata": {
        "colab": {
          "base_uri": "https://localhost:8080/",
          "height": 67,
          "referenced_widgets": [
            "083eaa988be34abd97fe4695e6900bd7",
            "60582fdd5bed45ae98509f39fd120686",
            "560a46d237a24f918ea31b3a99f47923",
            "432feaf704a74a45864ec41bb8daa2be",
            "ee572844042b45489b9d386afd505586",
            "317a3818f9324e46a28ce9659bba1c27",
            "9fb6c930f1164162b34b986d427fb87d",
            "35fd721f934e4cef819403defc990b9a"
          ]
        },
        "id": "R-UfEo0Zadpl",
        "outputId": "c8e2ce34-5b2c-4df0-d676-e5c375f3054f"
      },
      "outputs": [
        {
          "output_type": "display_data",
          "data": {
            "text/plain": [
              "HBox(children=(FloatProgress(value=0.0, description='Downloading pytorch_model.bin', max=647693783.0, style=Pr…"
            ],
            "application/vnd.jupyter.widget-view+json": {
              "version_major": 2,
              "version_minor": 0,
              "model_id": "083eaa988be34abd97fe4695e6900bd7"
            }
          },
          "metadata": {}
        },
        {
          "output_type": "stream",
          "name": "stdout",
          "text": [
            "\n"
          ]
        }
      ],
      "source": [
        "led = AutoModelForSeq2SeqLM.from_pretrained(\"allenai/led-base-16384\", gradient_checkpointing=True, use_cache=False)"
      ]
    },
    {
      "cell_type": "code",
      "execution_count": null,
      "metadata": {
        "id": "kPnNi_tWaklV"
      },
      "outputs": [],
      "source": [
        "# Set hyperparameters\n",
        "led.config.num_beams = 2\n",
        "led.config.max_length = 512\n",
        "led.config.min_length = 100\n",
        "led.config.length_penalty = 2.0\n",
        "led.config.early_stopping = True\n",
        "led.config.no_repeat_ngram_size = 3"
      ]
    },
    {
      "cell_type": "code",
      "execution_count": null,
      "metadata": {
        "colab": {
          "base_uri": "https://localhost:8080/",
          "height": 67,
          "referenced_widgets": [
            "7d1efcc1d4e04f949af2fb7a45d3fba1",
            "f455b9ef366949289c83cfe8bc07cf8a",
            "704d5264ffd14ae2bf582c87963072e1",
            "787c38e4c7714d168e41df8b79a4d24c",
            "8d717c06d47f43e9bdcb989b9617b201",
            "ac6c9b859d3c422d8d2f9edde24af630",
            "d215e0b6970940248055653c75c6cec8",
            "bbc8e912781e4509a38539a69d4cf34f"
          ]
        },
        "id": "S5_rc9wUaBop",
        "outputId": "3aa4e81b-c277-4214-ff6b-c694c1c66210"
      },
      "outputs": [
        {
          "data": {
            "application/vnd.jupyter.widget-view+json": {
              "model_id": "7d1efcc1d4e04f949af2fb7a45d3fba1",
              "version_major": 2,
              "version_minor": 0
            },
            "text/plain": [
              "HBox(children=(FloatProgress(value=0.0, description='Downloading', max=1955.0, style=ProgressStyle(description…"
            ]
          },
          "metadata": {},
          "output_type": "display_data"
        },
        {
          "name": "stdout",
          "output_type": "stream",
          "text": [
            "\n"
          ]
        }
      ],
      "source": [
        "rouge = load_metric(\"rouge\")"
      ]
    },
    {
      "cell_type": "code",
      "execution_count": null,
      "metadata": {
        "id": "1ahmf7mcZzU7"
      },
      "outputs": [],
      "source": [
        "# Defining compute_metrics function\n",
        "# Compute metrics function expects output pred.predictions and label pred.label_ids\n",
        "def compute_metrics(pred):\n",
        "    labels_ids = pred.label_ids\n",
        "    pred_ids = pred.predictions\n",
        "\n",
        "    # Decoding tokens\n",
        "    pred_str = tokenizer.batch_decode(pred_ids, skip_special_tokens=True)\n",
        "    labels_ids[labels_ids == -100] = tokenizer.pad_token_id\n",
        "    label_str = tokenizer.batch_decode(labels_ids, skip_special_tokens=True)\n",
        "\n",
        "    # Computing rouge score\n",
        "    rouge1_output = rouge.compute(\n",
        "        predictions=pred_str, references=label_str, rouge_types=[\"rouge1\"])[\"rouge1\"].mid\n",
        "    rouge2_output = rouge.compute(\n",
        "        predictions=pred_str, references=label_str, rouge_types=[\"rouge2\"])[\"rouge2\"].mid        \n",
        "    rougeL_output = rouge.compute(\n",
        "        predictions=pred_str, references=label_str, rouge_types=[\"rougeL\"])[\"rougeL\"].mid \n",
        "    rougeLsum_output = rouge.compute(\n",
        "        predictions=pred_str, references=label_str, rouge_types=[\"rougeLsum\"])[\"rougeLsum\"].mid \n",
        "\n",
        "    return {\n",
        "        \"rouge1_precision\": round(rouge1_output.precision, 4),\n",
        "        \"rouge1_recall\": round(rouge1_output.recall, 4),\n",
        "        \"rouge1_fmeasure\": round(rouge1_output.fmeasure, 4),\n",
        "        \"rouge2_precision\": round(rouge2_output.precision, 4),\n",
        "        \"rouge2_recall\": round(rouge2_output.recall, 4),\n",
        "        \"rouge2_fmeasure\": round(rouge2_output.fmeasure, 4),\n",
        "        \"rougeL_precision\": round(rougeL_output.precision, 4),\n",
        "        \"rougeL_recall\": round(rougeL_output.recall, 4),\n",
        "        \"rougeL_fmeasure\": round(rougeL_output.fmeasure, 4),\n",
        "        \"rougeLsum_precision\": round(rougeLsum_output.precision, 4),\n",
        "        \"rougeLsum_recall\": round(rougeLsum_output.recall, 4),\n",
        "        \"rougeLsum_fmeasure\": round(rougeLsum_output.fmeasure, 4),\n",
        "    }"
      ]
    },
    {
      "cell_type": "markdown",
      "metadata": {
        "id": "rrX2gBnYLAna"
      },
      "source": [
        "## Model training, evaluation and deployment"
      ]
    },
    {
      "cell_type": "code",
      "execution_count": null,
      "metadata": {
        "id": "Gq7CajIWaUo5"
      },
      "outputs": [],
      "source": [
        "# Importing relevant packages\n",
        "from transformers import Seq2SeqTrainer, Seq2SeqTrainingArguments\n",
        "from huggingface_hub.keras_mixin import push_to_hub_keras\n",
        "from transformers import Trainer"
      ]
    },
    {
      "cell_type": "code",
      "execution_count": null,
      "metadata": {
        "colab": {
          "base_uri": "https://localhost:8080/"
        },
        "id": "mMehwI4QZqB_",
        "outputId": "a667b178-4441-407f-b208-e1eca32e887b"
      },
      "outputs": [
        {
          "name": "stderr",
          "output_type": "stream",
          "text": [
            "PyTorch: setting up devices\n",
            "The default value for the training argument `--report_to` will change in v5 (from all installed integrations to none). In v5, you will need to use `--report_to all` to get the same behavior as now. You should start updating your code and make this info disappear :-).\n"
          ]
        }
      ],
      "source": [
        "# Defining training arguments\n",
        "training_args = Seq2SeqTrainingArguments(\n",
        "    predict_with_generate=True,\n",
        "    evaluation_strategy=\"steps\",\n",
        "    per_device_train_batch_size=batch_size,\n",
        "    per_device_eval_batch_size=batch_size,\n",
        "    fp16=True,\n",
        "    output_dir=\"summarise_v10\",\n",
        "    logging_steps=5,\n",
        "    eval_steps=10,\n",
        "    save_steps=10,\n",
        "    save_total_limit=2,\n",
        "    gradient_accumulation_steps=1,\n",
        "    num_train_epochs=10,\n",
        "    push_to_hub=True\n",
        ")"
      ]
    },
    {
      "cell_type": "code",
      "execution_count": null,
      "metadata": {
        "colab": {
          "base_uri": "https://localhost:8080/"
        },
        "id": "6WPyTYO_JfHW",
        "outputId": "fa009e0f-aeef-4167-be9d-06ab21d1d087"
      },
      "outputs": [
        {
          "name": "stderr",
          "output_type": "stream",
          "text": [
            "/content/summarise_v10 is already a clone of https://huggingface.co/debbiesoon/summarise_v10. Make sure you pull the latest changes with `repo.git_pull()`.\n",
            "WARNING:huggingface_hub.repository:/content/summarise_v10 is already a clone of https://huggingface.co/debbiesoon/summarise_v10. Make sure you pull the latest changes with `repo.git_pull()`.\n",
            "Using cuda_amp half precision backend\n"
          ]
        }
      ],
      "source": [
        "# Pass training arguments, model, tokenizer, datasets and compute_metrics function to the trainer\n",
        "trainer = Seq2SeqTrainer(\n",
        "    model=led,\n",
        "    tokenizer=tokenizer,\n",
        "    args=training_args,\n",
        "    compute_metrics=compute_metrics,\n",
        "    train_dataset=train_dataset,\n",
        "    eval_dataset=val_dataset\n",
        ")"
      ]
    },
    {
      "cell_type": "code",
      "execution_count": null,
      "metadata": {
        "colab": {
          "background_save": true,
          "base_uri": "https://localhost:8080/",
          "height": 257
        },
        "id": "g4zkCpeQa2NN",
        "outputId": "1d45eb26-95ff-46b9-d9b6-1ab2168f51b5"
      },
      "outputs": [
        {
          "name": "stderr",
          "output_type": "stream",
          "text": [
            "/usr/local/lib/python3.7/dist-packages/transformers/optimization.py:310: FutureWarning: This implementation of AdamW is deprecated and will be removed in a future version. Use the PyTorch implementation torch.optim.AdamW instead, or set `no_deprecation_warning=True` to disable this warning\n",
            "  FutureWarning,\n",
            "***** Running training *****\n",
            "  Num examples = 90\n",
            "  Num Epochs = 10\n",
            "  Instantaneous batch size per device = 4\n",
            "  Total train batch size (w. parallel, distributed & accumulation) = 4\n",
            "  Gradient Accumulation steps = 1\n",
            "  Total optimization steps = 230\n"
          ]
        },
        {
          "data": {
            "text/html": [
              "\n",
              "    <div>\n",
              "      \n",
              "      <progress value='230' max='230' style='width:300px; height:20px; vertical-align: middle;'></progress>\n",
              "      [230/230 1:32:40, Epoch 10/10]\n",
              "    </div>\n",
              "    <table border=\"1\" class=\"dataframe\">\n",
              "  <thead>\n",
              " <tr style=\"text-align: left;\">\n",
              "      <th>Step</th>\n",
              "      <th>Training Loss</th>\n",
              "      <th>Validation Loss</th>\n",
              "      <th>Rouge1 Precision</th>\n",
              "      <th>Rouge1 Recall</th>\n",
              "      <th>Rouge1 Fmeasure</th>\n",
              "      <th>Rouge2 Precision</th>\n",
              "      <th>Rouge2 Recall</th>\n",
              "      <th>Rouge2 Fmeasure</th>\n",
              "      <th>Rougel Precision</th>\n",
              "      <th>Rougel Recall</th>\n",
              "      <th>Rougel Fmeasure</th>\n",
              "      <th>Rougelsum Precision</th>\n",
              "      <th>Rougelsum Recall</th>\n",
              "      <th>Rougelsum Fmeasure</th>\n",
              "    </tr>\n",
              "  </thead>\n",
              "  <tbody>\n",
              "    <tr>\n",
              "      <td>10</td>\n",
              "      <td>1.483400</td>\n",
              "      <td>1.700125</td>\n",
              "      <td>0.230400</td>\n",
              "      <td>0.676100</td>\n",
              "      <td>0.315200</td>\n",
              "      <td>0.132600</td>\n",
              "      <td>0.403400</td>\n",
              "      <td>0.179700</td>\n",
              "      <td>0.149500</td>\n",
              "      <td>0.462400</td>\n",
              "      <td>0.206900</td>\n",
              "      <td>0.149500</td>\n",
              "      <td>0.462400</td>\n",
              "      <td>0.206900</td>\n",
              "    </tr>\n",
              "    <tr>\n",
              "      <td>20</td>\n",
              "      <td>1.501100</td>\n",
              "      <td>1.605079</td>\n",
              "      <td>0.430100</td>\n",
              "      <td>0.537200</td>\n",
              "      <td>0.408700</td>\n",
              "      <td>0.248100</td>\n",
              "      <td>0.343900</td>\n",
              "      <td>0.245000</td>\n",
              "      <td>0.287800</td>\n",
              "      <td>0.392800</td>\n",
              "      <td>0.283400</td>\n",
              "      <td>0.287800</td>\n",
              "      <td>0.392800</td>\n",
              "      <td>0.283400</td>\n",
              "    </tr>\n",
              "    <tr>\n",
              "      <td>30</td>\n",
              "      <td>0.928900</td>\n",
              "      <td>1.550093</td>\n",
              "      <td>0.431000</td>\n",
              "      <td>0.597000</td>\n",
              "      <td>0.436400</td>\n",
              "      <td>0.265300</td>\n",
              "      <td>0.393000</td>\n",
              "      <td>0.273600</td>\n",
              "      <td>0.300700</td>\n",
              "      <td>0.423300</td>\n",
              "      <td>0.303700</td>\n",
              "      <td>0.300700</td>\n",
              "      <td>0.423300</td>\n",
              "      <td>0.303700</td>\n",
              "    </tr>\n",
              "    <tr>\n",
              "      <td>40</td>\n",
              "      <td>1.089500</td>\n",
              "      <td>1.596948</td>\n",
              "      <td>0.466100</td>\n",
              "      <td>0.548100</td>\n",
              "      <td>0.448600</td>\n",
              "      <td>0.273600</td>\n",
              "      <td>0.343900</td>\n",
              "      <td>0.268900</td>\n",
              "      <td>0.331800</td>\n",
              "      <td>0.404500</td>\n",
              "      <td>0.322100</td>\n",
              "      <td>0.331800</td>\n",
              "      <td>0.404500</td>\n",
              "      <td>0.322100</td>\n",
              "    </tr>\n",
              "    <tr>\n",
              "      <td>50</td>\n",
              "      <td>0.778500</td>\n",
              "      <td>1.587543</td>\n",
              "      <td>0.452700</td>\n",
              "      <td>0.540500</td>\n",
              "      <td>0.420900</td>\n",
              "      <td>0.294200</td>\n",
              "      <td>0.363400</td>\n",
              "      <td>0.272000</td>\n",
              "      <td>0.326800</td>\n",
              "      <td>0.404700</td>\n",
              "      <td>0.304200</td>\n",
              "      <td>0.326800</td>\n",
              "      <td>0.404700</td>\n",
              "      <td>0.304200</td>\n",
              "    </tr>\n",
              "    <tr>\n",
              "      <td>60</td>\n",
              "      <td>0.635000</td>\n",
              "      <td>1.608058</td>\n",
              "      <td>0.414200</td>\n",
              "      <td>0.564900</td>\n",
              "      <td>0.417200</td>\n",
              "      <td>0.242000</td>\n",
              "      <td>0.365900</td>\n",
              "      <td>0.254900</td>\n",
              "      <td>0.278700</td>\n",
              "      <td>0.415600</td>\n",
              "      <td>0.290900</td>\n",
              "      <td>0.278700</td>\n",
              "      <td>0.415600</td>\n",
              "      <td>0.290900</td>\n",
              "    </tr>\n",
              "    <tr>\n",
              "      <td>70</td>\n",
              "      <td>0.514000</td>\n",
              "      <td>1.615020</td>\n",
              "      <td>0.443100</td>\n",
              "      <td>0.566500</td>\n",
              "      <td>0.456900</td>\n",
              "      <td>0.265600</td>\n",
              "      <td>0.375400</td>\n",
              "      <td>0.285300</td>\n",
              "      <td>0.325200</td>\n",
              "      <td>0.441000</td>\n",
              "      <td>0.343400</td>\n",
              "      <td>0.325200</td>\n",
              "      <td>0.441000</td>\n",
              "      <td>0.343400</td>\n",
              "    </tr>\n",
              "    <tr>\n",
              "      <td>80</td>\n",
              "      <td>0.561700</td>\n",
              "      <td>1.644672</td>\n",
              "      <td>0.395600</td>\n",
              "      <td>0.630400</td>\n",
              "      <td>0.451000</td>\n",
              "      <td>0.235300</td>\n",
              "      <td>0.425000</td>\n",
              "      <td>0.277600</td>\n",
              "      <td>0.288300</td>\n",
              "      <td>0.490400</td>\n",
              "      <td>0.333200</td>\n",
              "      <td>0.288300</td>\n",
              "      <td>0.490400</td>\n",
              "      <td>0.333200</td>\n",
              "    </tr>\n",
              "    <tr>\n",
              "      <td>90</td>\n",
              "      <td>0.396000</td>\n",
              "      <td>1.742341</td>\n",
              "      <td>0.427600</td>\n",
              "      <td>0.609000</td>\n",
              "      <td>0.450600</td>\n",
              "      <td>0.265700</td>\n",
              "      <td>0.414200</td>\n",
              "      <td>0.285800</td>\n",
              "      <td>0.309100</td>\n",
              "      <td>0.467700</td>\n",
              "      <td>0.331600</td>\n",
              "      <td>0.309100</td>\n",
              "      <td>0.467700</td>\n",
              "      <td>0.331600</td>\n",
              "    </tr>\n",
              "    <tr>\n",
              "      <td>100</td>\n",
              "      <td>0.342700</td>\n",
              "      <td>1.757154</td>\n",
              "      <td>0.387700</td>\n",
              "      <td>0.563300</td>\n",
              "      <td>0.416900</td>\n",
              "      <td>0.216000</td>\n",
              "      <td>0.363500</td>\n",
              "      <td>0.246800</td>\n",
              "      <td>0.270600</td>\n",
              "      <td>0.431400</td>\n",
              "      <td>0.301800</td>\n",
              "      <td>0.270600</td>\n",
              "      <td>0.431400</td>\n",
              "      <td>0.301800</td>\n",
              "    </tr>\n",
              "    <tr>\n",
              "      <td>110</td>\n",
              "      <td>0.305900</td>\n",
              "      <td>1.770542</td>\n",
              "      <td>0.425500</td>\n",
              "      <td>0.552400</td>\n",
              "      <td>0.442900</td>\n",
              "      <td>0.249500</td>\n",
              "      <td>0.348800</td>\n",
              "      <td>0.267100</td>\n",
              "      <td>0.318400</td>\n",
              "      <td>0.427500</td>\n",
              "      <td>0.335800</td>\n",
              "      <td>0.318400</td>\n",
              "      <td>0.427500</td>\n",
              "      <td>0.335800</td>\n",
              "    </tr>\n",
              "    <tr>\n",
              "      <td>120</td>\n",
              "      <td>0.208300</td>\n",
              "      <td>1.784011</td>\n",
              "      <td>0.453300</td>\n",
              "      <td>0.589600</td>\n",
              "      <td>0.465500</td>\n",
              "      <td>0.284000</td>\n",
              "      <td>0.414200</td>\n",
              "      <td>0.308000</td>\n",
              "      <td>0.316400</td>\n",
              "      <td>0.444200</td>\n",
              "      <td>0.337600</td>\n",
              "      <td>0.316400</td>\n",
              "      <td>0.444200</td>\n",
              "      <td>0.337600</td>\n",
              "    </tr>\n",
              "    <tr>\n",
              "      <td>130</td>\n",
              "      <td>0.259100</td>\n",
              "      <td>1.839560</td>\n",
              "      <td>0.439100</td>\n",
              "      <td>0.531500</td>\n",
              "      <td>0.420900</td>\n",
              "      <td>0.276800</td>\n",
              "      <td>0.366100</td>\n",
              "      <td>0.270700</td>\n",
              "      <td>0.319400</td>\n",
              "      <td>0.412400</td>\n",
              "      <td>0.311100</td>\n",
              "      <td>0.319400</td>\n",
              "      <td>0.412400</td>\n",
              "      <td>0.311100</td>\n",
              "    </tr>\n",
              "    <tr>\n",
              "      <td>140</td>\n",
              "      <td>0.260900</td>\n",
              "      <td>1.822036</td>\n",
              "      <td>0.442500</td>\n",
              "      <td>0.571200</td>\n",
              "      <td>0.446500</td>\n",
              "      <td>0.264200</td>\n",
              "      <td>0.373800</td>\n",
              "      <td>0.272700</td>\n",
              "      <td>0.309300</td>\n",
              "      <td>0.434900</td>\n",
              "      <td>0.320800</td>\n",
              "      <td>0.309300</td>\n",
              "      <td>0.434900</td>\n",
              "      <td>0.320800</td>\n",
              "    </tr>\n",
              "    <tr>\n",
              "      <td>150</td>\n",
              "      <td>0.169600</td>\n",
              "      <td>1.891584</td>\n",
              "      <td>0.475000</td>\n",
              "      <td>0.555700</td>\n",
              "      <td>0.468600</td>\n",
              "      <td>0.295900</td>\n",
              "      <td>0.378300</td>\n",
              "      <td>0.301900</td>\n",
              "      <td>0.340900</td>\n",
              "      <td>0.426800</td>\n",
              "      <td>0.344200</td>\n",
              "      <td>0.340900</td>\n",
              "      <td>0.426800</td>\n",
              "      <td>0.344200</td>\n",
              "    </tr>\n",
              "    <tr>\n",
              "      <td>160</td>\n",
              "      <td>0.268300</td>\n",
              "      <td>1.895734</td>\n",
              "      <td>0.445000</td>\n",
              "      <td>0.591800</td>\n",
              "      <td>0.474800</td>\n",
              "      <td>0.285000</td>\n",
              "      <td>0.402100</td>\n",
              "      <td>0.307500</td>\n",
              "      <td>0.324900</td>\n",
              "      <td>0.455100</td>\n",
              "      <td>0.352200</td>\n",
              "      <td>0.324900</td>\n",
              "      <td>0.455100</td>\n",
              "      <td>0.352200</td>\n",
              "    </tr>\n",
              "    <tr>\n",
              "      <td>170</td>\n",
              "      <td>0.125900</td>\n",
              "      <td>1.937104</td>\n",
              "      <td>0.447300</td>\n",
              "      <td>0.536800</td>\n",
              "      <td>0.466400</td>\n",
              "      <td>0.260800</td>\n",
              "      <td>0.335500</td>\n",
              "      <td>0.282000</td>\n",
              "      <td>0.327600</td>\n",
              "      <td>0.407100</td>\n",
              "      <td>0.349200</td>\n",
              "      <td>0.327600</td>\n",
              "      <td>0.407100</td>\n",
              "      <td>0.349200</td>\n",
              "    </tr>\n",
              "    <tr>\n",
              "      <td>180</td>\n",
              "      <td>0.191900</td>\n",
              "      <td>1.952149</td>\n",
              "      <td>0.402600</td>\n",
              "      <td>0.552800</td>\n",
              "      <td>0.438000</td>\n",
              "      <td>0.236200</td>\n",
              "      <td>0.342700</td>\n",
              "      <td>0.260400</td>\n",
              "      <td>0.275100</td>\n",
              "      <td>0.395700</td>\n",
              "      <td>0.304200</td>\n",
              "      <td>0.275100</td>\n",
              "      <td>0.395700</td>\n",
              "      <td>0.304200</td>\n",
              "    </tr>\n",
              "    <tr>\n",
              "      <td>190</td>\n",
              "      <td>0.127900</td>\n",
              "      <td>1.939806</td>\n",
              "      <td>0.413000</td>\n",
              "      <td>0.605300</td>\n",
              "      <td>0.457500</td>\n",
              "      <td>0.251100</td>\n",
              "      <td>0.403000</td>\n",
              "      <td>0.288100</td>\n",
              "      <td>0.266200</td>\n",
              "      <td>0.419500</td>\n",
              "      <td>0.302700</td>\n",
              "      <td>0.266200</td>\n",
              "      <td>0.419500</td>\n",
              "      <td>0.302700</td>\n",
              "    </tr>\n",
              "    <tr>\n",
              "      <td>200</td>\n",
              "      <td>0.117600</td>\n",
              "      <td>1.955568</td>\n",
              "      <td>0.436300</td>\n",
              "      <td>0.565000</td>\n",
              "      <td>0.449200</td>\n",
              "      <td>0.259100</td>\n",
              "      <td>0.372700</td>\n",
              "      <td>0.280600</td>\n",
              "      <td>0.310700</td>\n",
              "      <td>0.428000</td>\n",
              "      <td>0.328900</td>\n",
              "      <td>0.310700</td>\n",
              "      <td>0.428000</td>\n",
              "      <td>0.328900</td>\n",
              "    </tr>\n",
              "    <tr>\n",
              "      <td>210</td>\n",
              "      <td>0.129900</td>\n",
              "      <td>1.964214</td>\n",
              "      <td>0.438500</td>\n",
              "      <td>0.572800</td>\n",
              "      <td>0.458700</td>\n",
              "      <td>0.268700</td>\n",
              "      <td>0.374400</td>\n",
              "      <td>0.288800</td>\n",
              "      <td>0.321200</td>\n",
              "      <td>0.436000</td>\n",
              "      <td>0.340400</td>\n",
              "      <td>0.321200</td>\n",
              "      <td>0.436000</td>\n",
              "      <td>0.340400</td>\n",
              "    </tr>\n",
              "    <tr>\n",
              "      <td>220</td>\n",
              "      <td>0.130300</td>\n",
              "      <td>1.964918</td>\n",
              "      <td>0.430000</td>\n",
              "      <td>0.564800</td>\n",
              "      <td>0.439000</td>\n",
              "      <td>0.260500</td>\n",
              "      <td>0.362400</td>\n",
              "      <td>0.269100</td>\n",
              "      <td>0.295800</td>\n",
              "      <td>0.413500</td>\n",
              "      <td>0.306700</td>\n",
              "      <td>0.295800</td>\n",
              "      <td>0.413500</td>\n",
              "      <td>0.306700</td>\n",
              "    </tr>\n",
              "    <tr>\n",
              "      <td>230</td>\n",
              "      <td>0.112900</td>\n",
              "      <td>1.967960</td>\n",
              "      <td>0.440400</td>\n",
              "      <td>0.587400</td>\n",
              "      <td>0.465300</td>\n",
              "      <td>0.267300</td>\n",
              "      <td>0.387100</td>\n",
              "      <td>0.289700</td>\n",
              "      <td>0.305900</td>\n",
              "      <td>0.441800</td>\n",
              "      <td>0.330800</td>\n",
              "      <td>0.305900</td>\n",
              "      <td>0.441800</td>\n",
              "      <td>0.330800</td>\n",
              "    </tr>\n",
              "  </tbody>\n",
              "</table><p>"
            ],
            "text/plain": [
              "<IPython.core.display.HTML object>"
            ]
          },
          "metadata": {},
          "output_type": "display_data"
        },
        {
          "name": "stderr",
          "output_type": "stream",
          "text": [
            "***** Running Evaluation *****\n",
            "  Num examples = 11\n",
            "  Batch size = 4\n",
            "Saving model checkpoint to summarise_v10/checkpoint-10\n",
            "Configuration saved in summarise_v10/checkpoint-10/config.json\n",
            "Model weights saved in summarise_v10/checkpoint-10/pytorch_model.bin\n",
            "tokenizer config file saved in summarise_v10/checkpoint-10/tokenizer_config.json\n",
            "Special tokens file saved in summarise_v10/checkpoint-10/special_tokens_map.json\n",
            "tokenizer config file saved in summarise_v10/tokenizer_config.json\n",
            "Special tokens file saved in summarise_v10/special_tokens_map.json\n",
            "***** Running Evaluation *****\n",
            "  Num examples = 11\n",
            "  Batch size = 4\n",
            "Saving model checkpoint to summarise_v10/checkpoint-20\n",
            "Configuration saved in summarise_v10/checkpoint-20/config.json\n",
            "Model weights saved in summarise_v10/checkpoint-20/pytorch_model.bin\n",
            "tokenizer config file saved in summarise_v10/checkpoint-20/tokenizer_config.json\n",
            "Special tokens file saved in summarise_v10/checkpoint-20/special_tokens_map.json\n",
            "***** Running Evaluation *****\n",
            "  Num examples = 11\n",
            "  Batch size = 4\n",
            "Saving model checkpoint to summarise_v10/checkpoint-30\n",
            "Configuration saved in summarise_v10/checkpoint-30/config.json\n",
            "Model weights saved in summarise_v10/checkpoint-30/pytorch_model.bin\n",
            "tokenizer config file saved in summarise_v10/checkpoint-30/tokenizer_config.json\n",
            "Special tokens file saved in summarise_v10/checkpoint-30/special_tokens_map.json\n",
            "Deleting older checkpoint [summarise_v10/checkpoint-10] due to args.save_total_limit\n",
            "***** Running Evaluation *****\n",
            "  Num examples = 11\n",
            "  Batch size = 4\n",
            "Saving model checkpoint to summarise_v10/checkpoint-40\n",
            "Configuration saved in summarise_v10/checkpoint-40/config.json\n",
            "Model weights saved in summarise_v10/checkpoint-40/pytorch_model.bin\n",
            "tokenizer config file saved in summarise_v10/checkpoint-40/tokenizer_config.json\n",
            "Special tokens file saved in summarise_v10/checkpoint-40/special_tokens_map.json\n",
            "Deleting older checkpoint [summarise_v10/checkpoint-20] due to args.save_total_limit\n",
            "***** Running Evaluation *****\n",
            "  Num examples = 11\n",
            "  Batch size = 4\n",
            "Saving model checkpoint to summarise_v10/checkpoint-50\n",
            "Configuration saved in summarise_v10/checkpoint-50/config.json\n",
            "Model weights saved in summarise_v10/checkpoint-50/pytorch_model.bin\n",
            "tokenizer config file saved in summarise_v10/checkpoint-50/tokenizer_config.json\n",
            "Special tokens file saved in summarise_v10/checkpoint-50/special_tokens_map.json\n",
            "Deleting older checkpoint [summarise_v10/checkpoint-30] due to args.save_total_limit\n",
            "***** Running Evaluation *****\n",
            "  Num examples = 11\n",
            "  Batch size = 4\n",
            "Saving model checkpoint to summarise_v10/checkpoint-60\n",
            "Configuration saved in summarise_v10/checkpoint-60/config.json\n",
            "Model weights saved in summarise_v10/checkpoint-60/pytorch_model.bin\n",
            "tokenizer config file saved in summarise_v10/checkpoint-60/tokenizer_config.json\n",
            "Special tokens file saved in summarise_v10/checkpoint-60/special_tokens_map.json\n",
            "Deleting older checkpoint [summarise_v10/checkpoint-40] due to args.save_total_limit\n",
            "***** Running Evaluation *****\n",
            "  Num examples = 11\n",
            "  Batch size = 4\n",
            "Saving model checkpoint to summarise_v10/checkpoint-70\n",
            "Configuration saved in summarise_v10/checkpoint-70/config.json\n",
            "Model weights saved in summarise_v10/checkpoint-70/pytorch_model.bin\n",
            "tokenizer config file saved in summarise_v10/checkpoint-70/tokenizer_config.json\n",
            "Special tokens file saved in summarise_v10/checkpoint-70/special_tokens_map.json\n",
            "Deleting older checkpoint [summarise_v10/checkpoint-50] due to args.save_total_limit\n",
            "***** Running Evaluation *****\n",
            "  Num examples = 11\n",
            "  Batch size = 4\n",
            "Saving model checkpoint to summarise_v10/checkpoint-80\n",
            "Configuration saved in summarise_v10/checkpoint-80/config.json\n",
            "Model weights saved in summarise_v10/checkpoint-80/pytorch_model.bin\n",
            "tokenizer config file saved in summarise_v10/checkpoint-80/tokenizer_config.json\n",
            "Special tokens file saved in summarise_v10/checkpoint-80/special_tokens_map.json\n",
            "Deleting older checkpoint [summarise_v10/checkpoint-60] due to args.save_total_limit\n",
            "***** Running Evaluation *****\n",
            "  Num examples = 11\n",
            "  Batch size = 4\n",
            "Saving model checkpoint to summarise_v10/checkpoint-90\n",
            "Configuration saved in summarise_v10/checkpoint-90/config.json\n",
            "Model weights saved in summarise_v10/checkpoint-90/pytorch_model.bin\n",
            "tokenizer config file saved in summarise_v10/checkpoint-90/tokenizer_config.json\n",
            "Special tokens file saved in summarise_v10/checkpoint-90/special_tokens_map.json\n",
            "Deleting older checkpoint [summarise_v10/checkpoint-70] due to args.save_total_limit\n",
            "***** Running Evaluation *****\n",
            "  Num examples = 11\n",
            "  Batch size = 4\n",
            "Saving model checkpoint to summarise_v10/checkpoint-100\n",
            "Configuration saved in summarise_v10/checkpoint-100/config.json\n",
            "Model weights saved in summarise_v10/checkpoint-100/pytorch_model.bin\n",
            "tokenizer config file saved in summarise_v10/checkpoint-100/tokenizer_config.json\n",
            "Special tokens file saved in summarise_v10/checkpoint-100/special_tokens_map.json\n",
            "Deleting older checkpoint [summarise_v10/checkpoint-80] due to args.save_total_limit\n",
            "***** Running Evaluation *****\n",
            "  Num examples = 11\n",
            "  Batch size = 4\n",
            "Saving model checkpoint to summarise_v10/checkpoint-110\n",
            "Configuration saved in summarise_v10/checkpoint-110/config.json\n",
            "Model weights saved in summarise_v10/checkpoint-110/pytorch_model.bin\n",
            "tokenizer config file saved in summarise_v10/checkpoint-110/tokenizer_config.json\n",
            "Special tokens file saved in summarise_v10/checkpoint-110/special_tokens_map.json\n",
            "Deleting older checkpoint [summarise_v10/checkpoint-90] due to args.save_total_limit\n",
            "***** Running Evaluation *****\n",
            "  Num examples = 11\n",
            "  Batch size = 4\n",
            "Saving model checkpoint to summarise_v10/checkpoint-120\n",
            "Configuration saved in summarise_v10/checkpoint-120/config.json\n",
            "Model weights saved in summarise_v10/checkpoint-120/pytorch_model.bin\n",
            "tokenizer config file saved in summarise_v10/checkpoint-120/tokenizer_config.json\n",
            "Special tokens file saved in summarise_v10/checkpoint-120/special_tokens_map.json\n",
            "Deleting older checkpoint [summarise_v10/checkpoint-100] due to args.save_total_limit\n",
            "***** Running Evaluation *****\n",
            "  Num examples = 11\n",
            "  Batch size = 4\n",
            "Saving model checkpoint to summarise_v10/checkpoint-130\n",
            "Configuration saved in summarise_v10/checkpoint-130/config.json\n",
            "Model weights saved in summarise_v10/checkpoint-130/pytorch_model.bin\n",
            "tokenizer config file saved in summarise_v10/checkpoint-130/tokenizer_config.json\n",
            "Special tokens file saved in summarise_v10/checkpoint-130/special_tokens_map.json\n",
            "Deleting older checkpoint [summarise_v10/checkpoint-110] due to args.save_total_limit\n",
            "***** Running Evaluation *****\n",
            "  Num examples = 11\n",
            "  Batch size = 4\n",
            "Saving model checkpoint to summarise_v10/checkpoint-140\n",
            "Configuration saved in summarise_v10/checkpoint-140/config.json\n",
            "Model weights saved in summarise_v10/checkpoint-140/pytorch_model.bin\n",
            "tokenizer config file saved in summarise_v10/checkpoint-140/tokenizer_config.json\n",
            "Special tokens file saved in summarise_v10/checkpoint-140/special_tokens_map.json\n",
            "Deleting older checkpoint [summarise_v10/checkpoint-120] due to args.save_total_limit\n",
            "***** Running Evaluation *****\n",
            "  Num examples = 11\n",
            "  Batch size = 4\n",
            "Saving model checkpoint to summarise_v10/checkpoint-150\n",
            "Configuration saved in summarise_v10/checkpoint-150/config.json\n",
            "Model weights saved in summarise_v10/checkpoint-150/pytorch_model.bin\n",
            "tokenizer config file saved in summarise_v10/checkpoint-150/tokenizer_config.json\n",
            "Special tokens file saved in summarise_v10/checkpoint-150/special_tokens_map.json\n",
            "Deleting older checkpoint [summarise_v10/checkpoint-130] due to args.save_total_limit\n",
            "***** Running Evaluation *****\n",
            "  Num examples = 11\n",
            "  Batch size = 4\n",
            "Saving model checkpoint to summarise_v10/checkpoint-160\n",
            "Configuration saved in summarise_v10/checkpoint-160/config.json\n",
            "Model weights saved in summarise_v10/checkpoint-160/pytorch_model.bin\n",
            "tokenizer config file saved in summarise_v10/checkpoint-160/tokenizer_config.json\n",
            "Special tokens file saved in summarise_v10/checkpoint-160/special_tokens_map.json\n",
            "Deleting older checkpoint [summarise_v10/checkpoint-140] due to args.save_total_limit\n",
            "***** Running Evaluation *****\n",
            "  Num examples = 11\n",
            "  Batch size = 4\n",
            "Saving model checkpoint to summarise_v10/checkpoint-170\n",
            "Configuration saved in summarise_v10/checkpoint-170/config.json\n",
            "Model weights saved in summarise_v10/checkpoint-170/pytorch_model.bin\n",
            "tokenizer config file saved in summarise_v10/checkpoint-170/tokenizer_config.json\n",
            "Special tokens file saved in summarise_v10/checkpoint-170/special_tokens_map.json\n",
            "Deleting older checkpoint [summarise_v10/checkpoint-150] due to args.save_total_limit\n",
            "***** Running Evaluation *****\n",
            "  Num examples = 11\n",
            "  Batch size = 4\n",
            "Saving model checkpoint to summarise_v10/checkpoint-180\n",
            "Configuration saved in summarise_v10/checkpoint-180/config.json\n",
            "Model weights saved in summarise_v10/checkpoint-180/pytorch_model.bin\n",
            "tokenizer config file saved in summarise_v10/checkpoint-180/tokenizer_config.json\n",
            "Special tokens file saved in summarise_v10/checkpoint-180/special_tokens_map.json\n",
            "Deleting older checkpoint [summarise_v10/checkpoint-160] due to args.save_total_limit\n",
            "***** Running Evaluation *****\n",
            "  Num examples = 11\n",
            "  Batch size = 4\n",
            "Saving model checkpoint to summarise_v10/checkpoint-190\n",
            "Configuration saved in summarise_v10/checkpoint-190/config.json\n",
            "Model weights saved in summarise_v10/checkpoint-190/pytorch_model.bin\n",
            "tokenizer config file saved in summarise_v10/checkpoint-190/tokenizer_config.json\n",
            "Special tokens file saved in summarise_v10/checkpoint-190/special_tokens_map.json\n",
            "Deleting older checkpoint [summarise_v10/checkpoint-170] due to args.save_total_limit\n",
            "***** Running Evaluation *****\n",
            "  Num examples = 11\n",
            "  Batch size = 4\n",
            "Saving model checkpoint to summarise_v10/checkpoint-200\n",
            "Configuration saved in summarise_v10/checkpoint-200/config.json\n",
            "Model weights saved in summarise_v10/checkpoint-200/pytorch_model.bin\n",
            "tokenizer config file saved in summarise_v10/checkpoint-200/tokenizer_config.json\n",
            "Special tokens file saved in summarise_v10/checkpoint-200/special_tokens_map.json\n",
            "Deleting older checkpoint [summarise_v10/checkpoint-180] due to args.save_total_limit\n",
            "***** Running Evaluation *****\n",
            "  Num examples = 11\n",
            "  Batch size = 4\n",
            "Saving model checkpoint to summarise_v10/checkpoint-210\n",
            "Configuration saved in summarise_v10/checkpoint-210/config.json\n",
            "Model weights saved in summarise_v10/checkpoint-210/pytorch_model.bin\n",
            "tokenizer config file saved in summarise_v10/checkpoint-210/tokenizer_config.json\n",
            "Special tokens file saved in summarise_v10/checkpoint-210/special_tokens_map.json\n",
            "Deleting older checkpoint [summarise_v10/checkpoint-190] due to args.save_total_limit\n",
            "***** Running Evaluation *****\n",
            "  Num examples = 11\n",
            "  Batch size = 4\n",
            "Saving model checkpoint to summarise_v10/checkpoint-220\n",
            "Configuration saved in summarise_v10/checkpoint-220/config.json\n",
            "Model weights saved in summarise_v10/checkpoint-220/pytorch_model.bin\n",
            "tokenizer config file saved in summarise_v10/checkpoint-220/tokenizer_config.json\n",
            "Special tokens file saved in summarise_v10/checkpoint-220/special_tokens_map.json\n",
            "Deleting older checkpoint [summarise_v10/checkpoint-200] due to args.save_total_limit\n",
            "***** Running Evaluation *****\n",
            "  Num examples = 11\n",
            "  Batch size = 4\n",
            "Saving model checkpoint to summarise_v10/checkpoint-230\n",
            "Configuration saved in summarise_v10/checkpoint-230/config.json\n",
            "Model weights saved in summarise_v10/checkpoint-230/pytorch_model.bin\n",
            "tokenizer config file saved in summarise_v10/checkpoint-230/tokenizer_config.json\n",
            "Special tokens file saved in summarise_v10/checkpoint-230/special_tokens_map.json\n",
            "Deleting older checkpoint [summarise_v10/checkpoint-210] due to args.save_total_limit\n",
            "\n",
            "\n",
            "Training completed. Do not forget to share your model on huggingface.co/models =)\n",
            "\n",
            "\n"
          ]
        },
        {
          "data": {
            "text/plain": [
              "TrainOutput(global_step=230, training_loss=0.4629465349342512, metrics={'train_runtime': 5564.2312, 'train_samples_per_second': 0.162, 'train_steps_per_second': 0.041, 'total_flos': 1822638263500800.0, 'train_loss': 0.4629465349342512, 'epoch': 10.0})"
            ]
          },
          "execution_count": 65,
          "metadata": {},
          "output_type": "execute_result"
        }
      ],
      "source": [
        "# Train model, generate evaluation metrics\n",
        "trainer.train()"
      ]
    },
    {
      "cell_type": "code",
      "execution_count": null,
      "metadata": {
        "colab": {
          "background_save": true,
          "referenced_widgets": [
            "93a0800448fc448a99d7acba3279b86c",
            "172fdf1433fc4f3f8969afc9939e4649"
          ]
        },
        "id": "efOkNIa6ygLt",
        "outputId": "62616fc4-561a-41b9-92af-851f33fa8bf0"
      },
      "outputs": [
        {
          "name": "stderr",
          "output_type": "stream",
          "text": [
            "Saving model checkpoint to summarise_v10\n",
            "Configuration saved in summarise_v10/config.json\n",
            "Model weights saved in summarise_v10/pytorch_model.bin\n",
            "tokenizer config file saved in summarise_v10/tokenizer_config.json\n",
            "Special tokens file saved in summarise_v10/special_tokens_map.json\n",
            "Several commits (2) will be pushed upstream.\n",
            "WARNING:huggingface_hub.repository:Several commits (2) will be pushed upstream.\n",
            "The progress bars may be unreliable.\n",
            "WARNING:huggingface_hub.repository:The progress bars may be unreliable.\n"
          ]
        },
        {
          "data": {
            "application/vnd.jupyter.widget-view+json": {
              "model_id": "93a0800448fc448a99d7acba3279b86c",
              "version_major": 2,
              "version_minor": 0
            },
            "text/plain": [
              "HBox(children=(FloatProgress(value=0.0, description='Upload file pytorch_model.bin', max=647678513.0, style=Pr…"
            ]
          },
          "metadata": {},
          "output_type": "display_data"
        },
        {
          "data": {
            "application/vnd.jupyter.widget-view+json": {
              "model_id": "172fdf1433fc4f3f8969afc9939e4649",
              "version_major": 2,
              "version_minor": 0
            },
            "text/plain": [
              "HBox(children=(FloatProgress(value=0.0, description='Upload file runs/Nov01_22-25-42_a02702c8c575/events.out.t…"
            ]
          },
          "metadata": {},
          "output_type": "display_data"
        },
        {
          "name": "stderr",
          "output_type": "stream",
          "text": [
            "remote: Scanning LFS files for validity, may be slow...        \n",
            "remote: LFS file scan complete.        \n",
            "To https://huggingface.co/debbiesoon/summarise_v10\n",
            "   4a6008c..22fa740  main -> main\n",
            "\n",
            "WARNING:huggingface_hub.repository:remote: Scanning LFS files for validity, may be slow...        \n",
            "remote: LFS file scan complete.        \n",
            "To https://huggingface.co/debbiesoon/summarise_v10\n",
            "   4a6008c..22fa740  main -> main\n",
            "\n"
          ]
        },
        {
          "name": "stdout",
          "output_type": "stream",
          "text": [
            "\n",
            "\n"
          ]
        },
        {
          "name": "stderr",
          "output_type": "stream",
          "text": [
            "Dropping the following result as it does not have all the necessary fields:\n",
            "{'task': {'name': 'Sequence-to-sequence Language Modeling', 'type': 'text2text-generation'}}\n",
            "To https://huggingface.co/debbiesoon/summarise_v10\n",
            "   22fa740..5a90b97  main -> main\n",
            "\n",
            "WARNING:huggingface_hub.repository:To https://huggingface.co/debbiesoon/summarise_v10\n",
            "   22fa740..5a90b97  main -> main\n",
            "\n"
          ]
        },
        {
          "data": {
            "application/vnd.google.colaboratory.intrinsic+json": {
              "type": "string"
            },
            "text/plain": [
              "'https://huggingface.co/debbiesoon/summarise_v10/commit/22fa740ce33ddf32a8f3810914215c1e7cb6def6'"
            ]
          },
          "execution_count": 66,
          "metadata": {},
          "output_type": "execute_result"
        }
      ],
      "source": [
        "# Push model to HuggingFace Hub\n",
        "trainer.push_to_hub(commit_message=\"Training complete\")"
      ]
    },
    {
      "cell_type": "code",
      "execution_count": null,
      "metadata": {
        "colab": {
          "background_save": true
        },
        "id": "wXPswE2i-UWu",
        "outputId": "893c9c02-e0aa-4d2d-a95c-1fa19e6b04e9"
      },
      "outputs": [
        {
          "name": "stderr",
          "output_type": "stream",
          "text": [
            "Saving model checkpoint to /content/drive/MyDrive/SGH Project/summarise_v10/\n",
            "Configuration saved in /content/drive/MyDrive/SGH Project/summarise_v10/config.json\n",
            "Model weights saved in /content/drive/MyDrive/SGH Project/summarise_v10/pytorch_model.bin\n",
            "tokenizer config file saved in /content/drive/MyDrive/SGH Project/summarise_v10/tokenizer_config.json\n",
            "Special tokens file saved in /content/drive/MyDrive/SGH Project/summarise_v10/special_tokens_map.json\n",
            "Saving model checkpoint to summarise_v10\n",
            "Configuration saved in summarise_v10/config.json\n",
            "Model weights saved in summarise_v10/pytorch_model.bin\n",
            "tokenizer config file saved in summarise_v10/tokenizer_config.json\n",
            "Special tokens file saved in summarise_v10/special_tokens_map.json\n",
            "Dropping the following result as it does not have all the necessary fields:\n",
            "{'task': {'name': 'Sequence-to-sequence Language Modeling', 'type': 'text2text-generation'}}\n"
          ]
        }
      ],
      "source": [
        "# Save model to Google Drive\n",
        "trainer.save_model('/content/drive/MyDrive/SGH Project/summarise_v10/')"
      ]
    }
  ],
  "metadata": {
    "accelerator": "GPU",
    "colab": {
      "collapsed_sections": [],
      "machine_shape": "hm",
      "provenance": [],
      "toc_visible": true
    },
    "gpuClass": "premium",
    "kernelspec": {
      "display_name": "Python 3",
      "name": "python3"
    },
    "widgets": {
      "application/vnd.jupyter.widget-state+json": {
        "704d5264ffd14ae2bf582c87963072e1": {
          "model_module": "@jupyter-widgets/controls",
          "model_module_version": "1.5.0",
          "model_name": "HTMLModel",
          "state": {
            "_dom_classes": [],
            "_model_module": "@jupyter-widgets/controls",
            "_model_module_version": "1.5.0",
            "_model_name": "HTMLModel",
            "_view_count": null,
            "_view_module": "@jupyter-widgets/controls",
            "_view_module_version": "1.5.0",
            "_view_name": "HTMLView",
            "description": "",
            "description_tooltip": null,
            "layout": "IPY_MODEL_d215e0b6970940248055653c75c6cec8",
            "placeholder": "​",
            "style": "IPY_MODEL_bbc8e912781e4509a38539a69d4cf34f",
            "value": " 4.93k/? [00:00&lt;00:00, 40.2kB/s]"
          }
        },
        "787c38e4c7714d168e41df8b79a4d24c": {
          "model_module": "@jupyter-widgets/base",
          "model_module_version": "1.2.0",
          "model_name": "LayoutModel",
          "state": {
            "_model_module": "@jupyter-widgets/base",
            "_model_module_version": "1.2.0",
            "_model_name": "LayoutModel",
            "_view_count": null,
            "_view_module": "@jupyter-widgets/base",
            "_view_module_version": "1.2.0",
            "_view_name": "LayoutView",
            "align_content": null,
            "align_items": null,
            "align_self": null,
            "border": null,
            "bottom": null,
            "display": null,
            "flex": null,
            "flex_flow": null,
            "grid_area": null,
            "grid_auto_columns": null,
            "grid_auto_flow": null,
            "grid_auto_rows": null,
            "grid_column": null,
            "grid_gap": null,
            "grid_row": null,
            "grid_template_areas": null,
            "grid_template_columns": null,
            "grid_template_rows": null,
            "height": null,
            "justify_content": null,
            "justify_items": null,
            "left": null,
            "margin": null,
            "max_height": null,
            "max_width": null,
            "min_height": null,
            "min_width": null,
            "object_fit": null,
            "object_position": null,
            "order": null,
            "overflow": null,
            "overflow_x": null,
            "overflow_y": null,
            "padding": null,
            "right": null,
            "top": null,
            "visibility": null,
            "width": null
          }
        },
        "7d1efcc1d4e04f949af2fb7a45d3fba1": {
          "model_module": "@jupyter-widgets/controls",
          "model_module_version": "1.5.0",
          "model_name": "HBoxModel",
          "state": {
            "_dom_classes": [],
            "_model_module": "@jupyter-widgets/controls",
            "_model_module_version": "1.5.0",
            "_model_name": "HBoxModel",
            "_view_count": null,
            "_view_module": "@jupyter-widgets/controls",
            "_view_module_version": "1.5.0",
            "_view_name": "HBoxView",
            "box_style": "",
            "children": [
              "IPY_MODEL_f455b9ef366949289c83cfe8bc07cf8a",
              "IPY_MODEL_704d5264ffd14ae2bf582c87963072e1"
            ],
            "layout": "IPY_MODEL_787c38e4c7714d168e41df8b79a4d24c"
          }
        },
        "8d717c06d47f43e9bdcb989b9617b201": {
          "model_module": "@jupyter-widgets/base",
          "model_module_version": "1.2.0",
          "model_name": "LayoutModel",
          "state": {
            "_model_module": "@jupyter-widgets/base",
            "_model_module_version": "1.2.0",
            "_model_name": "LayoutModel",
            "_view_count": null,
            "_view_module": "@jupyter-widgets/base",
            "_view_module_version": "1.2.0",
            "_view_name": "LayoutView",
            "align_content": null,
            "align_items": null,
            "align_self": null,
            "border": null,
            "bottom": null,
            "display": null,
            "flex": null,
            "flex_flow": null,
            "grid_area": null,
            "grid_auto_columns": null,
            "grid_auto_flow": null,
            "grid_auto_rows": null,
            "grid_column": null,
            "grid_gap": null,
            "grid_row": null,
            "grid_template_areas": null,
            "grid_template_columns": null,
            "grid_template_rows": null,
            "height": null,
            "justify_content": null,
            "justify_items": null,
            "left": null,
            "margin": null,
            "max_height": null,
            "max_width": null,
            "min_height": null,
            "min_width": null,
            "object_fit": null,
            "object_position": null,
            "order": null,
            "overflow": null,
            "overflow_x": null,
            "overflow_y": null,
            "padding": null,
            "right": null,
            "top": null,
            "visibility": null,
            "width": null
          }
        },
        "ac6c9b859d3c422d8d2f9edde24af630": {
          "model_module": "@jupyter-widgets/controls",
          "model_module_version": "1.5.0",
          "model_name": "ProgressStyleModel",
          "state": {
            "_model_module": "@jupyter-widgets/controls",
            "_model_module_version": "1.5.0",
            "_model_name": "ProgressStyleModel",
            "_view_count": null,
            "_view_module": "@jupyter-widgets/base",
            "_view_module_version": "1.2.0",
            "_view_name": "StyleView",
            "bar_color": null,
            "description_width": "initial"
          }
        },
        "bbc8e912781e4509a38539a69d4cf34f": {
          "model_module": "@jupyter-widgets/controls",
          "model_module_version": "1.5.0",
          "model_name": "DescriptionStyleModel",
          "state": {
            "_model_module": "@jupyter-widgets/controls",
            "_model_module_version": "1.5.0",
            "_model_name": "DescriptionStyleModel",
            "_view_count": null,
            "_view_module": "@jupyter-widgets/base",
            "_view_module_version": "1.2.0",
            "_view_name": "StyleView",
            "description_width": ""
          }
        },
        "d215e0b6970940248055653c75c6cec8": {
          "model_module": "@jupyter-widgets/base",
          "model_module_version": "1.2.0",
          "model_name": "LayoutModel",
          "state": {
            "_model_module": "@jupyter-widgets/base",
            "_model_module_version": "1.2.0",
            "_model_name": "LayoutModel",
            "_view_count": null,
            "_view_module": "@jupyter-widgets/base",
            "_view_module_version": "1.2.0",
            "_view_name": "LayoutView",
            "align_content": null,
            "align_items": null,
            "align_self": null,
            "border": null,
            "bottom": null,
            "display": null,
            "flex": null,
            "flex_flow": null,
            "grid_area": null,
            "grid_auto_columns": null,
            "grid_auto_flow": null,
            "grid_auto_rows": null,
            "grid_column": null,
            "grid_gap": null,
            "grid_row": null,
            "grid_template_areas": null,
            "grid_template_columns": null,
            "grid_template_rows": null,
            "height": null,
            "justify_content": null,
            "justify_items": null,
            "left": null,
            "margin": null,
            "max_height": null,
            "max_width": null,
            "min_height": null,
            "min_width": null,
            "object_fit": null,
            "object_position": null,
            "order": null,
            "overflow": null,
            "overflow_x": null,
            "overflow_y": null,
            "padding": null,
            "right": null,
            "top": null,
            "visibility": null,
            "width": null
          }
        },
        "f455b9ef366949289c83cfe8bc07cf8a": {
          "model_module": "@jupyter-widgets/controls",
          "model_module_version": "1.5.0",
          "model_name": "FloatProgressModel",
          "state": {
            "_dom_classes": [],
            "_model_module": "@jupyter-widgets/controls",
            "_model_module_version": "1.5.0",
            "_model_name": "FloatProgressModel",
            "_view_count": null,
            "_view_module": "@jupyter-widgets/controls",
            "_view_module_version": "1.5.0",
            "_view_name": "ProgressView",
            "bar_style": "success",
            "description": "Downloading: ",
            "description_tooltip": null,
            "layout": "IPY_MODEL_8d717c06d47f43e9bdcb989b9617b201",
            "max": 1955,
            "min": 0,
            "orientation": "horizontal",
            "style": "IPY_MODEL_ac6c9b859d3c422d8d2f9edde24af630",
            "value": 1955
          }
        },
        "fd923d48b9704edc97e6a315ceca7b46": {
          "model_module": "@jupyter-widgets/controls",
          "model_name": "HBoxModel",
          "model_module_version": "1.5.0",
          "state": {
            "_dom_classes": [],
            "_model_module": "@jupyter-widgets/controls",
            "_model_module_version": "1.5.0",
            "_model_name": "HBoxModel",
            "_view_count": null,
            "_view_module": "@jupyter-widgets/controls",
            "_view_module_version": "1.5.0",
            "_view_name": "HBoxView",
            "box_style": "",
            "children": [
              "IPY_MODEL_ab2c61f5d3d84f388d7ce31f15ee9cf0",
              "IPY_MODEL_5f940b943f504319b2db005edf9fea7e"
            ],
            "layout": "IPY_MODEL_7d6173aca40646e8a18473ef66bfdf8f"
          }
        },
        "ab2c61f5d3d84f388d7ce31f15ee9cf0": {
          "model_module": "@jupyter-widgets/controls",
          "model_name": "FloatProgressModel",
          "model_module_version": "1.5.0",
          "state": {
            "_dom_classes": [],
            "_model_module": "@jupyter-widgets/controls",
            "_model_module_version": "1.5.0",
            "_model_name": "FloatProgressModel",
            "_view_count": null,
            "_view_module": "@jupyter-widgets/controls",
            "_view_module_version": "1.5.0",
            "_view_name": "ProgressView",
            "bar_style": "success",
            "description": "Downloading tokenizer_config.json: 100%",
            "description_tooltip": null,
            "layout": "IPY_MODEL_24355c9458164c9d97f8670da1999577",
            "max": 27,
            "min": 0,
            "orientation": "horizontal",
            "style": "IPY_MODEL_9087fbdca83c4c1f951aa8b3d94b3532",
            "value": 27
          }
        },
        "5f940b943f504319b2db005edf9fea7e": {
          "model_module": "@jupyter-widgets/controls",
          "model_name": "HTMLModel",
          "model_module_version": "1.5.0",
          "state": {
            "_dom_classes": [],
            "_model_module": "@jupyter-widgets/controls",
            "_model_module_version": "1.5.0",
            "_model_name": "HTMLModel",
            "_view_count": null,
            "_view_module": "@jupyter-widgets/controls",
            "_view_module_version": "1.5.0",
            "_view_name": "HTMLView",
            "description": "",
            "description_tooltip": null,
            "layout": "IPY_MODEL_d9c6b30ee4a943c388ae967598e17a46",
            "placeholder": "​",
            "style": "IPY_MODEL_61e3be15fae94ff1a06c3f6095787781",
            "value": " 27.0/27.0 [00:00&lt;00:00, 27.5B/s]"
          }
        },
        "7d6173aca40646e8a18473ef66bfdf8f": {
          "model_module": "@jupyter-widgets/base",
          "model_name": "LayoutModel",
          "model_module_version": "1.2.0",
          "state": {
            "_model_module": "@jupyter-widgets/base",
            "_model_module_version": "1.2.0",
            "_model_name": "LayoutModel",
            "_view_count": null,
            "_view_module": "@jupyter-widgets/base",
            "_view_module_version": "1.2.0",
            "_view_name": "LayoutView",
            "align_content": null,
            "align_items": null,
            "align_self": null,
            "border": null,
            "bottom": null,
            "display": null,
            "flex": null,
            "flex_flow": null,
            "grid_area": null,
            "grid_auto_columns": null,
            "grid_auto_flow": null,
            "grid_auto_rows": null,
            "grid_column": null,
            "grid_gap": null,
            "grid_row": null,
            "grid_template_areas": null,
            "grid_template_columns": null,
            "grid_template_rows": null,
            "height": null,
            "justify_content": null,
            "justify_items": null,
            "left": null,
            "margin": null,
            "max_height": null,
            "max_width": null,
            "min_height": null,
            "min_width": null,
            "object_fit": null,
            "object_position": null,
            "order": null,
            "overflow": null,
            "overflow_x": null,
            "overflow_y": null,
            "padding": null,
            "right": null,
            "top": null,
            "visibility": null,
            "width": null
          }
        },
        "24355c9458164c9d97f8670da1999577": {
          "model_module": "@jupyter-widgets/base",
          "model_name": "LayoutModel",
          "model_module_version": "1.2.0",
          "state": {
            "_model_module": "@jupyter-widgets/base",
            "_model_module_version": "1.2.0",
            "_model_name": "LayoutModel",
            "_view_count": null,
            "_view_module": "@jupyter-widgets/base",
            "_view_module_version": "1.2.0",
            "_view_name": "LayoutView",
            "align_content": null,
            "align_items": null,
            "align_self": null,
            "border": null,
            "bottom": null,
            "display": null,
            "flex": null,
            "flex_flow": null,
            "grid_area": null,
            "grid_auto_columns": null,
            "grid_auto_flow": null,
            "grid_auto_rows": null,
            "grid_column": null,
            "grid_gap": null,
            "grid_row": null,
            "grid_template_areas": null,
            "grid_template_columns": null,
            "grid_template_rows": null,
            "height": null,
            "justify_content": null,
            "justify_items": null,
            "left": null,
            "margin": null,
            "max_height": null,
            "max_width": null,
            "min_height": null,
            "min_width": null,
            "object_fit": null,
            "object_position": null,
            "order": null,
            "overflow": null,
            "overflow_x": null,
            "overflow_y": null,
            "padding": null,
            "right": null,
            "top": null,
            "visibility": null,
            "width": null
          }
        },
        "9087fbdca83c4c1f951aa8b3d94b3532": {
          "model_module": "@jupyter-widgets/controls",
          "model_name": "ProgressStyleModel",
          "model_module_version": "1.5.0",
          "state": {
            "_model_module": "@jupyter-widgets/controls",
            "_model_module_version": "1.5.0",
            "_model_name": "ProgressStyleModel",
            "_view_count": null,
            "_view_module": "@jupyter-widgets/base",
            "_view_module_version": "1.2.0",
            "_view_name": "StyleView",
            "bar_color": null,
            "description_width": "initial"
          }
        },
        "d9c6b30ee4a943c388ae967598e17a46": {
          "model_module": "@jupyter-widgets/base",
          "model_name": "LayoutModel",
          "model_module_version": "1.2.0",
          "state": {
            "_model_module": "@jupyter-widgets/base",
            "_model_module_version": "1.2.0",
            "_model_name": "LayoutModel",
            "_view_count": null,
            "_view_module": "@jupyter-widgets/base",
            "_view_module_version": "1.2.0",
            "_view_name": "LayoutView",
            "align_content": null,
            "align_items": null,
            "align_self": null,
            "border": null,
            "bottom": null,
            "display": null,
            "flex": null,
            "flex_flow": null,
            "grid_area": null,
            "grid_auto_columns": null,
            "grid_auto_flow": null,
            "grid_auto_rows": null,
            "grid_column": null,
            "grid_gap": null,
            "grid_row": null,
            "grid_template_areas": null,
            "grid_template_columns": null,
            "grid_template_rows": null,
            "height": null,
            "justify_content": null,
            "justify_items": null,
            "left": null,
            "margin": null,
            "max_height": null,
            "max_width": null,
            "min_height": null,
            "min_width": null,
            "object_fit": null,
            "object_position": null,
            "order": null,
            "overflow": null,
            "overflow_x": null,
            "overflow_y": null,
            "padding": null,
            "right": null,
            "top": null,
            "visibility": null,
            "width": null
          }
        },
        "61e3be15fae94ff1a06c3f6095787781": {
          "model_module": "@jupyter-widgets/controls",
          "model_name": "DescriptionStyleModel",
          "model_module_version": "1.5.0",
          "state": {
            "_model_module": "@jupyter-widgets/controls",
            "_model_module_version": "1.5.0",
            "_model_name": "DescriptionStyleModel",
            "_view_count": null,
            "_view_module": "@jupyter-widgets/base",
            "_view_module_version": "1.2.0",
            "_view_name": "StyleView",
            "description_width": ""
          }
        },
        "76277d59372549a9862ee22d18984025": {
          "model_module": "@jupyter-widgets/controls",
          "model_name": "HBoxModel",
          "model_module_version": "1.5.0",
          "state": {
            "_dom_classes": [],
            "_model_module": "@jupyter-widgets/controls",
            "_model_module_version": "1.5.0",
            "_model_name": "HBoxModel",
            "_view_count": null,
            "_view_module": "@jupyter-widgets/controls",
            "_view_module_version": "1.5.0",
            "_view_name": "HBoxView",
            "box_style": "",
            "children": [
              "IPY_MODEL_44d361dc125c42b6b125cef555796759",
              "IPY_MODEL_21baa8a8a95942918fd940be1c8d18da"
            ],
            "layout": "IPY_MODEL_07f6426196724e7c85fe250e8c3ce5a1"
          }
        },
        "44d361dc125c42b6b125cef555796759": {
          "model_module": "@jupyter-widgets/controls",
          "model_name": "FloatProgressModel",
          "model_module_version": "1.5.0",
          "state": {
            "_dom_classes": [],
            "_model_module": "@jupyter-widgets/controls",
            "_model_module_version": "1.5.0",
            "_model_name": "FloatProgressModel",
            "_view_count": null,
            "_view_module": "@jupyter-widgets/controls",
            "_view_module_version": "1.5.0",
            "_view_name": "ProgressView",
            "bar_style": "success",
            "description": "Downloading config.json: 100%",
            "description_tooltip": null,
            "layout": "IPY_MODEL_2e16a06b27924d80b910f48cc39770d1",
            "max": 1092,
            "min": 0,
            "orientation": "horizontal",
            "style": "IPY_MODEL_1478266801494cb8b3493d3c9218a65c",
            "value": 1092
          }
        },
        "21baa8a8a95942918fd940be1c8d18da": {
          "model_module": "@jupyter-widgets/controls",
          "model_name": "HTMLModel",
          "model_module_version": "1.5.0",
          "state": {
            "_dom_classes": [],
            "_model_module": "@jupyter-widgets/controls",
            "_model_module_version": "1.5.0",
            "_model_name": "HTMLModel",
            "_view_count": null,
            "_view_module": "@jupyter-widgets/controls",
            "_view_module_version": "1.5.0",
            "_view_name": "HTMLView",
            "description": "",
            "description_tooltip": null,
            "layout": "IPY_MODEL_3e42d542016942f7ac484ce90087130e",
            "placeholder": "​",
            "style": "IPY_MODEL_a8217d0104ce4bce92eb78141fdf1fda",
            "value": " 1.07k/1.07k [00:02&lt;00:00, 372B/s]"
          }
        },
        "07f6426196724e7c85fe250e8c3ce5a1": {
          "model_module": "@jupyter-widgets/base",
          "model_name": "LayoutModel",
          "model_module_version": "1.2.0",
          "state": {
            "_model_module": "@jupyter-widgets/base",
            "_model_module_version": "1.2.0",
            "_model_name": "LayoutModel",
            "_view_count": null,
            "_view_module": "@jupyter-widgets/base",
            "_view_module_version": "1.2.0",
            "_view_name": "LayoutView",
            "align_content": null,
            "align_items": null,
            "align_self": null,
            "border": null,
            "bottom": null,
            "display": null,
            "flex": null,
            "flex_flow": null,
            "grid_area": null,
            "grid_auto_columns": null,
            "grid_auto_flow": null,
            "grid_auto_rows": null,
            "grid_column": null,
            "grid_gap": null,
            "grid_row": null,
            "grid_template_areas": null,
            "grid_template_columns": null,
            "grid_template_rows": null,
            "height": null,
            "justify_content": null,
            "justify_items": null,
            "left": null,
            "margin": null,
            "max_height": null,
            "max_width": null,
            "min_height": null,
            "min_width": null,
            "object_fit": null,
            "object_position": null,
            "order": null,
            "overflow": null,
            "overflow_x": null,
            "overflow_y": null,
            "padding": null,
            "right": null,
            "top": null,
            "visibility": null,
            "width": null
          }
        },
        "2e16a06b27924d80b910f48cc39770d1": {
          "model_module": "@jupyter-widgets/base",
          "model_name": "LayoutModel",
          "model_module_version": "1.2.0",
          "state": {
            "_model_module": "@jupyter-widgets/base",
            "_model_module_version": "1.2.0",
            "_model_name": "LayoutModel",
            "_view_count": null,
            "_view_module": "@jupyter-widgets/base",
            "_view_module_version": "1.2.0",
            "_view_name": "LayoutView",
            "align_content": null,
            "align_items": null,
            "align_self": null,
            "border": null,
            "bottom": null,
            "display": null,
            "flex": null,
            "flex_flow": null,
            "grid_area": null,
            "grid_auto_columns": null,
            "grid_auto_flow": null,
            "grid_auto_rows": null,
            "grid_column": null,
            "grid_gap": null,
            "grid_row": null,
            "grid_template_areas": null,
            "grid_template_columns": null,
            "grid_template_rows": null,
            "height": null,
            "justify_content": null,
            "justify_items": null,
            "left": null,
            "margin": null,
            "max_height": null,
            "max_width": null,
            "min_height": null,
            "min_width": null,
            "object_fit": null,
            "object_position": null,
            "order": null,
            "overflow": null,
            "overflow_x": null,
            "overflow_y": null,
            "padding": null,
            "right": null,
            "top": null,
            "visibility": null,
            "width": null
          }
        },
        "1478266801494cb8b3493d3c9218a65c": {
          "model_module": "@jupyter-widgets/controls",
          "model_name": "ProgressStyleModel",
          "model_module_version": "1.5.0",
          "state": {
            "_model_module": "@jupyter-widgets/controls",
            "_model_module_version": "1.5.0",
            "_model_name": "ProgressStyleModel",
            "_view_count": null,
            "_view_module": "@jupyter-widgets/base",
            "_view_module_version": "1.2.0",
            "_view_name": "StyleView",
            "bar_color": null,
            "description_width": "initial"
          }
        },
        "3e42d542016942f7ac484ce90087130e": {
          "model_module": "@jupyter-widgets/base",
          "model_name": "LayoutModel",
          "model_module_version": "1.2.0",
          "state": {
            "_model_module": "@jupyter-widgets/base",
            "_model_module_version": "1.2.0",
            "_model_name": "LayoutModel",
            "_view_count": null,
            "_view_module": "@jupyter-widgets/base",
            "_view_module_version": "1.2.0",
            "_view_name": "LayoutView",
            "align_content": null,
            "align_items": null,
            "align_self": null,
            "border": null,
            "bottom": null,
            "display": null,
            "flex": null,
            "flex_flow": null,
            "grid_area": null,
            "grid_auto_columns": null,
            "grid_auto_flow": null,
            "grid_auto_rows": null,
            "grid_column": null,
            "grid_gap": null,
            "grid_row": null,
            "grid_template_areas": null,
            "grid_template_columns": null,
            "grid_template_rows": null,
            "height": null,
            "justify_content": null,
            "justify_items": null,
            "left": null,
            "margin": null,
            "max_height": null,
            "max_width": null,
            "min_height": null,
            "min_width": null,
            "object_fit": null,
            "object_position": null,
            "order": null,
            "overflow": null,
            "overflow_x": null,
            "overflow_y": null,
            "padding": null,
            "right": null,
            "top": null,
            "visibility": null,
            "width": null
          }
        },
        "a8217d0104ce4bce92eb78141fdf1fda": {
          "model_module": "@jupyter-widgets/controls",
          "model_name": "DescriptionStyleModel",
          "model_module_version": "1.5.0",
          "state": {
            "_model_module": "@jupyter-widgets/controls",
            "_model_module_version": "1.5.0",
            "_model_name": "DescriptionStyleModel",
            "_view_count": null,
            "_view_module": "@jupyter-widgets/base",
            "_view_module_version": "1.2.0",
            "_view_name": "StyleView",
            "description_width": ""
          }
        },
        "3255173e1da0416ea3a705c9a4ed2806": {
          "model_module": "@jupyter-widgets/controls",
          "model_name": "HBoxModel",
          "model_module_version": "1.5.0",
          "state": {
            "_dom_classes": [],
            "_model_module": "@jupyter-widgets/controls",
            "_model_module_version": "1.5.0",
            "_model_name": "HBoxModel",
            "_view_count": null,
            "_view_module": "@jupyter-widgets/controls",
            "_view_module_version": "1.5.0",
            "_view_name": "HBoxView",
            "box_style": "",
            "children": [
              "IPY_MODEL_2653037cd5144ca7a72746de7549a504",
              "IPY_MODEL_c712c0e581134e2091d9fc308036faf3"
            ],
            "layout": "IPY_MODEL_fc9318bd41e84fa3babf77576b90a29b"
          }
        },
        "2653037cd5144ca7a72746de7549a504": {
          "model_module": "@jupyter-widgets/controls",
          "model_name": "FloatProgressModel",
          "model_module_version": "1.5.0",
          "state": {
            "_dom_classes": [],
            "_model_module": "@jupyter-widgets/controls",
            "_model_module_version": "1.5.0",
            "_model_name": "FloatProgressModel",
            "_view_count": null,
            "_view_module": "@jupyter-widgets/controls",
            "_view_module_version": "1.5.0",
            "_view_name": "ProgressView",
            "bar_style": "success",
            "description": "Downloading vocab.json: 100%",
            "description_tooltip": null,
            "layout": "IPY_MODEL_ad24f93a0a9046c8a1ad5cfade57e47e",
            "max": 898822,
            "min": 0,
            "orientation": "horizontal",
            "style": "IPY_MODEL_9b07899234504704b1bf07f3171cce14",
            "value": 898822
          }
        },
        "c712c0e581134e2091d9fc308036faf3": {
          "model_module": "@jupyter-widgets/controls",
          "model_name": "HTMLModel",
          "model_module_version": "1.5.0",
          "state": {
            "_dom_classes": [],
            "_model_module": "@jupyter-widgets/controls",
            "_model_module_version": "1.5.0",
            "_model_name": "HTMLModel",
            "_view_count": null,
            "_view_module": "@jupyter-widgets/controls",
            "_view_module_version": "1.5.0",
            "_view_name": "HTMLView",
            "description": "",
            "description_tooltip": null,
            "layout": "IPY_MODEL_ac88ab1dfe8f40fa87fff865dbda3fbd",
            "placeholder": "​",
            "style": "IPY_MODEL_3f2b672d0e264f35a27acbb897f01242",
            "value": " 878k/878k [00:10&lt;00:00, 89.6kB/s]"
          }
        },
        "fc9318bd41e84fa3babf77576b90a29b": {
          "model_module": "@jupyter-widgets/base",
          "model_name": "LayoutModel",
          "model_module_version": "1.2.0",
          "state": {
            "_model_module": "@jupyter-widgets/base",
            "_model_module_version": "1.2.0",
            "_model_name": "LayoutModel",
            "_view_count": null,
            "_view_module": "@jupyter-widgets/base",
            "_view_module_version": "1.2.0",
            "_view_name": "LayoutView",
            "align_content": null,
            "align_items": null,
            "align_self": null,
            "border": null,
            "bottom": null,
            "display": null,
            "flex": null,
            "flex_flow": null,
            "grid_area": null,
            "grid_auto_columns": null,
            "grid_auto_flow": null,
            "grid_auto_rows": null,
            "grid_column": null,
            "grid_gap": null,
            "grid_row": null,
            "grid_template_areas": null,
            "grid_template_columns": null,
            "grid_template_rows": null,
            "height": null,
            "justify_content": null,
            "justify_items": null,
            "left": null,
            "margin": null,
            "max_height": null,
            "max_width": null,
            "min_height": null,
            "min_width": null,
            "object_fit": null,
            "object_position": null,
            "order": null,
            "overflow": null,
            "overflow_x": null,
            "overflow_y": null,
            "padding": null,
            "right": null,
            "top": null,
            "visibility": null,
            "width": null
          }
        },
        "ad24f93a0a9046c8a1ad5cfade57e47e": {
          "model_module": "@jupyter-widgets/base",
          "model_name": "LayoutModel",
          "model_module_version": "1.2.0",
          "state": {
            "_model_module": "@jupyter-widgets/base",
            "_model_module_version": "1.2.0",
            "_model_name": "LayoutModel",
            "_view_count": null,
            "_view_module": "@jupyter-widgets/base",
            "_view_module_version": "1.2.0",
            "_view_name": "LayoutView",
            "align_content": null,
            "align_items": null,
            "align_self": null,
            "border": null,
            "bottom": null,
            "display": null,
            "flex": null,
            "flex_flow": null,
            "grid_area": null,
            "grid_auto_columns": null,
            "grid_auto_flow": null,
            "grid_auto_rows": null,
            "grid_column": null,
            "grid_gap": null,
            "grid_row": null,
            "grid_template_areas": null,
            "grid_template_columns": null,
            "grid_template_rows": null,
            "height": null,
            "justify_content": null,
            "justify_items": null,
            "left": null,
            "margin": null,
            "max_height": null,
            "max_width": null,
            "min_height": null,
            "min_width": null,
            "object_fit": null,
            "object_position": null,
            "order": null,
            "overflow": null,
            "overflow_x": null,
            "overflow_y": null,
            "padding": null,
            "right": null,
            "top": null,
            "visibility": null,
            "width": null
          }
        },
        "9b07899234504704b1bf07f3171cce14": {
          "model_module": "@jupyter-widgets/controls",
          "model_name": "ProgressStyleModel",
          "model_module_version": "1.5.0",
          "state": {
            "_model_module": "@jupyter-widgets/controls",
            "_model_module_version": "1.5.0",
            "_model_name": "ProgressStyleModel",
            "_view_count": null,
            "_view_module": "@jupyter-widgets/base",
            "_view_module_version": "1.2.0",
            "_view_name": "StyleView",
            "bar_color": null,
            "description_width": "initial"
          }
        },
        "ac88ab1dfe8f40fa87fff865dbda3fbd": {
          "model_module": "@jupyter-widgets/base",
          "model_name": "LayoutModel",
          "model_module_version": "1.2.0",
          "state": {
            "_model_module": "@jupyter-widgets/base",
            "_model_module_version": "1.2.0",
            "_model_name": "LayoutModel",
            "_view_count": null,
            "_view_module": "@jupyter-widgets/base",
            "_view_module_version": "1.2.0",
            "_view_name": "LayoutView",
            "align_content": null,
            "align_items": null,
            "align_self": null,
            "border": null,
            "bottom": null,
            "display": null,
            "flex": null,
            "flex_flow": null,
            "grid_area": null,
            "grid_auto_columns": null,
            "grid_auto_flow": null,
            "grid_auto_rows": null,
            "grid_column": null,
            "grid_gap": null,
            "grid_row": null,
            "grid_template_areas": null,
            "grid_template_columns": null,
            "grid_template_rows": null,
            "height": null,
            "justify_content": null,
            "justify_items": null,
            "left": null,
            "margin": null,
            "max_height": null,
            "max_width": null,
            "min_height": null,
            "min_width": null,
            "object_fit": null,
            "object_position": null,
            "order": null,
            "overflow": null,
            "overflow_x": null,
            "overflow_y": null,
            "padding": null,
            "right": null,
            "top": null,
            "visibility": null,
            "width": null
          }
        },
        "3f2b672d0e264f35a27acbb897f01242": {
          "model_module": "@jupyter-widgets/controls",
          "model_name": "DescriptionStyleModel",
          "model_module_version": "1.5.0",
          "state": {
            "_model_module": "@jupyter-widgets/controls",
            "_model_module_version": "1.5.0",
            "_model_name": "DescriptionStyleModel",
            "_view_count": null,
            "_view_module": "@jupyter-widgets/base",
            "_view_module_version": "1.2.0",
            "_view_name": "StyleView",
            "description_width": ""
          }
        },
        "269528cc37ab4e51bb408e060c21ba35": {
          "model_module": "@jupyter-widgets/controls",
          "model_name": "HBoxModel",
          "model_module_version": "1.5.0",
          "state": {
            "_dom_classes": [],
            "_model_module": "@jupyter-widgets/controls",
            "_model_module_version": "1.5.0",
            "_model_name": "HBoxModel",
            "_view_count": null,
            "_view_module": "@jupyter-widgets/controls",
            "_view_module_version": "1.5.0",
            "_view_name": "HBoxView",
            "box_style": "",
            "children": [
              "IPY_MODEL_6f1eb45c955449d4bf2de45613ef6afe",
              "IPY_MODEL_5937143b2bf44d5baa719e6032ce2212"
            ],
            "layout": "IPY_MODEL_ef6127c8490245559aabdf3420b8c5c4"
          }
        },
        "6f1eb45c955449d4bf2de45613ef6afe": {
          "model_module": "@jupyter-widgets/controls",
          "model_name": "FloatProgressModel",
          "model_module_version": "1.5.0",
          "state": {
            "_dom_classes": [],
            "_model_module": "@jupyter-widgets/controls",
            "_model_module_version": "1.5.0",
            "_model_name": "FloatProgressModel",
            "_view_count": null,
            "_view_module": "@jupyter-widgets/controls",
            "_view_module_version": "1.5.0",
            "_view_name": "ProgressView",
            "bar_style": "success",
            "description": "Downloading merges.txt: 100%",
            "description_tooltip": null,
            "layout": "IPY_MODEL_7fc42183a7fd482aa9758b2a9b60551c",
            "max": 456318,
            "min": 0,
            "orientation": "horizontal",
            "style": "IPY_MODEL_cdbef739814649a080d397652f567bd3",
            "value": 456318
          }
        },
        "5937143b2bf44d5baa719e6032ce2212": {
          "model_module": "@jupyter-widgets/controls",
          "model_name": "HTMLModel",
          "model_module_version": "1.5.0",
          "state": {
            "_dom_classes": [],
            "_model_module": "@jupyter-widgets/controls",
            "_model_module_version": "1.5.0",
            "_model_name": "HTMLModel",
            "_view_count": null,
            "_view_module": "@jupyter-widgets/controls",
            "_view_module_version": "1.5.0",
            "_view_name": "HTMLView",
            "description": "",
            "description_tooltip": null,
            "layout": "IPY_MODEL_65df0cf1b74642a08db2d2267dd15077",
            "placeholder": "​",
            "style": "IPY_MODEL_d3dd3217f8b547fface1a9521cf70079",
            "value": " 446k/446k [00:06&lt;00:00, 65.6kB/s]"
          }
        },
        "ef6127c8490245559aabdf3420b8c5c4": {
          "model_module": "@jupyter-widgets/base",
          "model_name": "LayoutModel",
          "model_module_version": "1.2.0",
          "state": {
            "_model_module": "@jupyter-widgets/base",
            "_model_module_version": "1.2.0",
            "_model_name": "LayoutModel",
            "_view_count": null,
            "_view_module": "@jupyter-widgets/base",
            "_view_module_version": "1.2.0",
            "_view_name": "LayoutView",
            "align_content": null,
            "align_items": null,
            "align_self": null,
            "border": null,
            "bottom": null,
            "display": null,
            "flex": null,
            "flex_flow": null,
            "grid_area": null,
            "grid_auto_columns": null,
            "grid_auto_flow": null,
            "grid_auto_rows": null,
            "grid_column": null,
            "grid_gap": null,
            "grid_row": null,
            "grid_template_areas": null,
            "grid_template_columns": null,
            "grid_template_rows": null,
            "height": null,
            "justify_content": null,
            "justify_items": null,
            "left": null,
            "margin": null,
            "max_height": null,
            "max_width": null,
            "min_height": null,
            "min_width": null,
            "object_fit": null,
            "object_position": null,
            "order": null,
            "overflow": null,
            "overflow_x": null,
            "overflow_y": null,
            "padding": null,
            "right": null,
            "top": null,
            "visibility": null,
            "width": null
          }
        },
        "7fc42183a7fd482aa9758b2a9b60551c": {
          "model_module": "@jupyter-widgets/base",
          "model_name": "LayoutModel",
          "model_module_version": "1.2.0",
          "state": {
            "_model_module": "@jupyter-widgets/base",
            "_model_module_version": "1.2.0",
            "_model_name": "LayoutModel",
            "_view_count": null,
            "_view_module": "@jupyter-widgets/base",
            "_view_module_version": "1.2.0",
            "_view_name": "LayoutView",
            "align_content": null,
            "align_items": null,
            "align_self": null,
            "border": null,
            "bottom": null,
            "display": null,
            "flex": null,
            "flex_flow": null,
            "grid_area": null,
            "grid_auto_columns": null,
            "grid_auto_flow": null,
            "grid_auto_rows": null,
            "grid_column": null,
            "grid_gap": null,
            "grid_row": null,
            "grid_template_areas": null,
            "grid_template_columns": null,
            "grid_template_rows": null,
            "height": null,
            "justify_content": null,
            "justify_items": null,
            "left": null,
            "margin": null,
            "max_height": null,
            "max_width": null,
            "min_height": null,
            "min_width": null,
            "object_fit": null,
            "object_position": null,
            "order": null,
            "overflow": null,
            "overflow_x": null,
            "overflow_y": null,
            "padding": null,
            "right": null,
            "top": null,
            "visibility": null,
            "width": null
          }
        },
        "cdbef739814649a080d397652f567bd3": {
          "model_module": "@jupyter-widgets/controls",
          "model_name": "ProgressStyleModel",
          "model_module_version": "1.5.0",
          "state": {
            "_model_module": "@jupyter-widgets/controls",
            "_model_module_version": "1.5.0",
            "_model_name": "ProgressStyleModel",
            "_view_count": null,
            "_view_module": "@jupyter-widgets/base",
            "_view_module_version": "1.2.0",
            "_view_name": "StyleView",
            "bar_color": null,
            "description_width": "initial"
          }
        },
        "65df0cf1b74642a08db2d2267dd15077": {
          "model_module": "@jupyter-widgets/base",
          "model_name": "LayoutModel",
          "model_module_version": "1.2.0",
          "state": {
            "_model_module": "@jupyter-widgets/base",
            "_model_module_version": "1.2.0",
            "_model_name": "LayoutModel",
            "_view_count": null,
            "_view_module": "@jupyter-widgets/base",
            "_view_module_version": "1.2.0",
            "_view_name": "LayoutView",
            "align_content": null,
            "align_items": null,
            "align_self": null,
            "border": null,
            "bottom": null,
            "display": null,
            "flex": null,
            "flex_flow": null,
            "grid_area": null,
            "grid_auto_columns": null,
            "grid_auto_flow": null,
            "grid_auto_rows": null,
            "grid_column": null,
            "grid_gap": null,
            "grid_row": null,
            "grid_template_areas": null,
            "grid_template_columns": null,
            "grid_template_rows": null,
            "height": null,
            "justify_content": null,
            "justify_items": null,
            "left": null,
            "margin": null,
            "max_height": null,
            "max_width": null,
            "min_height": null,
            "min_width": null,
            "object_fit": null,
            "object_position": null,
            "order": null,
            "overflow": null,
            "overflow_x": null,
            "overflow_y": null,
            "padding": null,
            "right": null,
            "top": null,
            "visibility": null,
            "width": null
          }
        },
        "d3dd3217f8b547fface1a9521cf70079": {
          "model_module": "@jupyter-widgets/controls",
          "model_name": "DescriptionStyleModel",
          "model_module_version": "1.5.0",
          "state": {
            "_model_module": "@jupyter-widgets/controls",
            "_model_module_version": "1.5.0",
            "_model_name": "DescriptionStyleModel",
            "_view_count": null,
            "_view_module": "@jupyter-widgets/base",
            "_view_module_version": "1.2.0",
            "_view_name": "StyleView",
            "description_width": ""
          }
        },
        "a4f0f6775563443a885d993f3207dc92": {
          "model_module": "@jupyter-widgets/controls",
          "model_name": "HBoxModel",
          "model_module_version": "1.5.0",
          "state": {
            "_dom_classes": [],
            "_model_module": "@jupyter-widgets/controls",
            "_model_module_version": "1.5.0",
            "_model_name": "HBoxModel",
            "_view_count": null,
            "_view_module": "@jupyter-widgets/controls",
            "_view_module_version": "1.5.0",
            "_view_name": "HBoxView",
            "box_style": "",
            "children": [
              "IPY_MODEL_f726af75a3ef48dc835d363c1961f053",
              "IPY_MODEL_00968f6ef3b84d9b965f1a49fc95b264"
            ],
            "layout": "IPY_MODEL_6c2e80ba2c7f4ff1b2d156eee34d6c8b"
          }
        },
        "f726af75a3ef48dc835d363c1961f053": {
          "model_module": "@jupyter-widgets/controls",
          "model_name": "FloatProgressModel",
          "model_module_version": "1.5.0",
          "state": {
            "_dom_classes": [],
            "_model_module": "@jupyter-widgets/controls",
            "_model_module_version": "1.5.0",
            "_model_name": "FloatProgressModel",
            "_view_count": null,
            "_view_module": "@jupyter-widgets/controls",
            "_view_module_version": "1.5.0",
            "_view_name": "ProgressView",
            "bar_style": "success",
            "description": "Downloading special_tokens_map.json: 100%",
            "description_tooltip": null,
            "layout": "IPY_MODEL_abf0b57310da4e259d5b3b7d5ff50648",
            "max": 772,
            "min": 0,
            "orientation": "horizontal",
            "style": "IPY_MODEL_4f2fcff4f9f9468a8479f803ee1e309e",
            "value": 772
          }
        },
        "00968f6ef3b84d9b965f1a49fc95b264": {
          "model_module": "@jupyter-widgets/controls",
          "model_name": "HTMLModel",
          "model_module_version": "1.5.0",
          "state": {
            "_dom_classes": [],
            "_model_module": "@jupyter-widgets/controls",
            "_model_module_version": "1.5.0",
            "_model_name": "HTMLModel",
            "_view_count": null,
            "_view_module": "@jupyter-widgets/controls",
            "_view_module_version": "1.5.0",
            "_view_name": "HTMLView",
            "description": "",
            "description_tooltip": null,
            "layout": "IPY_MODEL_048d918ae00948418d40d14daa600f27",
            "placeholder": "​",
            "style": "IPY_MODEL_217b5a9cc44e43749167d26417028520",
            "value": " 772/772 [00:01&lt;00:00, 400B/s]"
          }
        },
        "6c2e80ba2c7f4ff1b2d156eee34d6c8b": {
          "model_module": "@jupyter-widgets/base",
          "model_name": "LayoutModel",
          "model_module_version": "1.2.0",
          "state": {
            "_model_module": "@jupyter-widgets/base",
            "_model_module_version": "1.2.0",
            "_model_name": "LayoutModel",
            "_view_count": null,
            "_view_module": "@jupyter-widgets/base",
            "_view_module_version": "1.2.0",
            "_view_name": "LayoutView",
            "align_content": null,
            "align_items": null,
            "align_self": null,
            "border": null,
            "bottom": null,
            "display": null,
            "flex": null,
            "flex_flow": null,
            "grid_area": null,
            "grid_auto_columns": null,
            "grid_auto_flow": null,
            "grid_auto_rows": null,
            "grid_column": null,
            "grid_gap": null,
            "grid_row": null,
            "grid_template_areas": null,
            "grid_template_columns": null,
            "grid_template_rows": null,
            "height": null,
            "justify_content": null,
            "justify_items": null,
            "left": null,
            "margin": null,
            "max_height": null,
            "max_width": null,
            "min_height": null,
            "min_width": null,
            "object_fit": null,
            "object_position": null,
            "order": null,
            "overflow": null,
            "overflow_x": null,
            "overflow_y": null,
            "padding": null,
            "right": null,
            "top": null,
            "visibility": null,
            "width": null
          }
        },
        "abf0b57310da4e259d5b3b7d5ff50648": {
          "model_module": "@jupyter-widgets/base",
          "model_name": "LayoutModel",
          "model_module_version": "1.2.0",
          "state": {
            "_model_module": "@jupyter-widgets/base",
            "_model_module_version": "1.2.0",
            "_model_name": "LayoutModel",
            "_view_count": null,
            "_view_module": "@jupyter-widgets/base",
            "_view_module_version": "1.2.0",
            "_view_name": "LayoutView",
            "align_content": null,
            "align_items": null,
            "align_self": null,
            "border": null,
            "bottom": null,
            "display": null,
            "flex": null,
            "flex_flow": null,
            "grid_area": null,
            "grid_auto_columns": null,
            "grid_auto_flow": null,
            "grid_auto_rows": null,
            "grid_column": null,
            "grid_gap": null,
            "grid_row": null,
            "grid_template_areas": null,
            "grid_template_columns": null,
            "grid_template_rows": null,
            "height": null,
            "justify_content": null,
            "justify_items": null,
            "left": null,
            "margin": null,
            "max_height": null,
            "max_width": null,
            "min_height": null,
            "min_width": null,
            "object_fit": null,
            "object_position": null,
            "order": null,
            "overflow": null,
            "overflow_x": null,
            "overflow_y": null,
            "padding": null,
            "right": null,
            "top": null,
            "visibility": null,
            "width": null
          }
        },
        "4f2fcff4f9f9468a8479f803ee1e309e": {
          "model_module": "@jupyter-widgets/controls",
          "model_name": "ProgressStyleModel",
          "model_module_version": "1.5.0",
          "state": {
            "_model_module": "@jupyter-widgets/controls",
            "_model_module_version": "1.5.0",
            "_model_name": "ProgressStyleModel",
            "_view_count": null,
            "_view_module": "@jupyter-widgets/base",
            "_view_module_version": "1.2.0",
            "_view_name": "StyleView",
            "bar_color": null,
            "description_width": "initial"
          }
        },
        "048d918ae00948418d40d14daa600f27": {
          "model_module": "@jupyter-widgets/base",
          "model_name": "LayoutModel",
          "model_module_version": "1.2.0",
          "state": {
            "_model_module": "@jupyter-widgets/base",
            "_model_module_version": "1.2.0",
            "_model_name": "LayoutModel",
            "_view_count": null,
            "_view_module": "@jupyter-widgets/base",
            "_view_module_version": "1.2.0",
            "_view_name": "LayoutView",
            "align_content": null,
            "align_items": null,
            "align_self": null,
            "border": null,
            "bottom": null,
            "display": null,
            "flex": null,
            "flex_flow": null,
            "grid_area": null,
            "grid_auto_columns": null,
            "grid_auto_flow": null,
            "grid_auto_rows": null,
            "grid_column": null,
            "grid_gap": null,
            "grid_row": null,
            "grid_template_areas": null,
            "grid_template_columns": null,
            "grid_template_rows": null,
            "height": null,
            "justify_content": null,
            "justify_items": null,
            "left": null,
            "margin": null,
            "max_height": null,
            "max_width": null,
            "min_height": null,
            "min_width": null,
            "object_fit": null,
            "object_position": null,
            "order": null,
            "overflow": null,
            "overflow_x": null,
            "overflow_y": null,
            "padding": null,
            "right": null,
            "top": null,
            "visibility": null,
            "width": null
          }
        },
        "217b5a9cc44e43749167d26417028520": {
          "model_module": "@jupyter-widgets/controls",
          "model_name": "DescriptionStyleModel",
          "model_module_version": "1.5.0",
          "state": {
            "_model_module": "@jupyter-widgets/controls",
            "_model_module_version": "1.5.0",
            "_model_name": "DescriptionStyleModel",
            "_view_count": null,
            "_view_module": "@jupyter-widgets/base",
            "_view_module_version": "1.2.0",
            "_view_name": "StyleView",
            "description_width": ""
          }
        },
        "c1ee75137b394f0e85e579f9b3b8ea30": {
          "model_module": "@jupyter-widgets/controls",
          "model_name": "HBoxModel",
          "model_module_version": "1.5.0",
          "state": {
            "_dom_classes": [],
            "_model_module": "@jupyter-widgets/controls",
            "_model_module_version": "1.5.0",
            "_model_name": "HBoxModel",
            "_view_count": null,
            "_view_module": "@jupyter-widgets/controls",
            "_view_module_version": "1.5.0",
            "_view_name": "HBoxView",
            "box_style": "",
            "children": [
              "IPY_MODEL_341f7cdc1f7c48ecb087015f14663015",
              "IPY_MODEL_bec655003f82463eaba595dba125b465"
            ],
            "layout": "IPY_MODEL_c06a33e79d364c25ba558465340e8d70"
          }
        },
        "341f7cdc1f7c48ecb087015f14663015": {
          "model_module": "@jupyter-widgets/controls",
          "model_name": "FloatProgressModel",
          "model_module_version": "1.5.0",
          "state": {
            "_dom_classes": [],
            "_model_module": "@jupyter-widgets/controls",
            "_model_module_version": "1.5.0",
            "_model_name": "FloatProgressModel",
            "_view_count": null,
            "_view_module": "@jupyter-widgets/controls",
            "_view_module_version": "1.5.0",
            "_view_name": "ProgressView",
            "bar_style": "success",
            "description": "100%",
            "description_tooltip": null,
            "layout": "IPY_MODEL_82f44726ee8c487ea47eb912b0a05958",
            "max": 22,
            "min": 0,
            "orientation": "horizontal",
            "style": "IPY_MODEL_28724018a8684ce2969a799c07dcceec",
            "value": 22
          }
        },
        "bec655003f82463eaba595dba125b465": {
          "model_module": "@jupyter-widgets/controls",
          "model_name": "HTMLModel",
          "model_module_version": "1.5.0",
          "state": {
            "_dom_classes": [],
            "_model_module": "@jupyter-widgets/controls",
            "_model_module_version": "1.5.0",
            "_model_name": "HTMLModel",
            "_view_count": null,
            "_view_module": "@jupyter-widgets/controls",
            "_view_module_version": "1.5.0",
            "_view_name": "HTMLView",
            "description": "",
            "description_tooltip": null,
            "layout": "IPY_MODEL_05fb59d324034287b4c760efa60610c7",
            "placeholder": "​",
            "style": "IPY_MODEL_7b14d82a022a490f84dadcd5b8bbc8ea",
            "value": " 22/22 [00:04&lt;00:00,  5.06ba/s]"
          }
        },
        "c06a33e79d364c25ba558465340e8d70": {
          "model_module": "@jupyter-widgets/base",
          "model_name": "LayoutModel",
          "model_module_version": "1.2.0",
          "state": {
            "_model_module": "@jupyter-widgets/base",
            "_model_module_version": "1.2.0",
            "_model_name": "LayoutModel",
            "_view_count": null,
            "_view_module": "@jupyter-widgets/base",
            "_view_module_version": "1.2.0",
            "_view_name": "LayoutView",
            "align_content": null,
            "align_items": null,
            "align_self": null,
            "border": null,
            "bottom": null,
            "display": null,
            "flex": null,
            "flex_flow": null,
            "grid_area": null,
            "grid_auto_columns": null,
            "grid_auto_flow": null,
            "grid_auto_rows": null,
            "grid_column": null,
            "grid_gap": null,
            "grid_row": null,
            "grid_template_areas": null,
            "grid_template_columns": null,
            "grid_template_rows": null,
            "height": null,
            "justify_content": null,
            "justify_items": null,
            "left": null,
            "margin": null,
            "max_height": null,
            "max_width": null,
            "min_height": null,
            "min_width": null,
            "object_fit": null,
            "object_position": null,
            "order": null,
            "overflow": null,
            "overflow_x": null,
            "overflow_y": null,
            "padding": null,
            "right": null,
            "top": null,
            "visibility": null,
            "width": null
          }
        },
        "82f44726ee8c487ea47eb912b0a05958": {
          "model_module": "@jupyter-widgets/base",
          "model_name": "LayoutModel",
          "model_module_version": "1.2.0",
          "state": {
            "_model_module": "@jupyter-widgets/base",
            "_model_module_version": "1.2.0",
            "_model_name": "LayoutModel",
            "_view_count": null,
            "_view_module": "@jupyter-widgets/base",
            "_view_module_version": "1.2.0",
            "_view_name": "LayoutView",
            "align_content": null,
            "align_items": null,
            "align_self": null,
            "border": null,
            "bottom": null,
            "display": null,
            "flex": null,
            "flex_flow": null,
            "grid_area": null,
            "grid_auto_columns": null,
            "grid_auto_flow": null,
            "grid_auto_rows": null,
            "grid_column": null,
            "grid_gap": null,
            "grid_row": null,
            "grid_template_areas": null,
            "grid_template_columns": null,
            "grid_template_rows": null,
            "height": null,
            "justify_content": null,
            "justify_items": null,
            "left": null,
            "margin": null,
            "max_height": null,
            "max_width": null,
            "min_height": null,
            "min_width": null,
            "object_fit": null,
            "object_position": null,
            "order": null,
            "overflow": null,
            "overflow_x": null,
            "overflow_y": null,
            "padding": null,
            "right": null,
            "top": null,
            "visibility": null,
            "width": null
          }
        },
        "28724018a8684ce2969a799c07dcceec": {
          "model_module": "@jupyter-widgets/controls",
          "model_name": "ProgressStyleModel",
          "model_module_version": "1.5.0",
          "state": {
            "_model_module": "@jupyter-widgets/controls",
            "_model_module_version": "1.5.0",
            "_model_name": "ProgressStyleModel",
            "_view_count": null,
            "_view_module": "@jupyter-widgets/base",
            "_view_module_version": "1.2.0",
            "_view_name": "StyleView",
            "bar_color": null,
            "description_width": "initial"
          }
        },
        "05fb59d324034287b4c760efa60610c7": {
          "model_module": "@jupyter-widgets/base",
          "model_name": "LayoutModel",
          "model_module_version": "1.2.0",
          "state": {
            "_model_module": "@jupyter-widgets/base",
            "_model_module_version": "1.2.0",
            "_model_name": "LayoutModel",
            "_view_count": null,
            "_view_module": "@jupyter-widgets/base",
            "_view_module_version": "1.2.0",
            "_view_name": "LayoutView",
            "align_content": null,
            "align_items": null,
            "align_self": null,
            "border": null,
            "bottom": null,
            "display": null,
            "flex": null,
            "flex_flow": null,
            "grid_area": null,
            "grid_auto_columns": null,
            "grid_auto_flow": null,
            "grid_auto_rows": null,
            "grid_column": null,
            "grid_gap": null,
            "grid_row": null,
            "grid_template_areas": null,
            "grid_template_columns": null,
            "grid_template_rows": null,
            "height": null,
            "justify_content": null,
            "justify_items": null,
            "left": null,
            "margin": null,
            "max_height": null,
            "max_width": null,
            "min_height": null,
            "min_width": null,
            "object_fit": null,
            "object_position": null,
            "order": null,
            "overflow": null,
            "overflow_x": null,
            "overflow_y": null,
            "padding": null,
            "right": null,
            "top": null,
            "visibility": null,
            "width": null
          }
        },
        "7b14d82a022a490f84dadcd5b8bbc8ea": {
          "model_module": "@jupyter-widgets/controls",
          "model_name": "DescriptionStyleModel",
          "model_module_version": "1.5.0",
          "state": {
            "_model_module": "@jupyter-widgets/controls",
            "_model_module_version": "1.5.0",
            "_model_name": "DescriptionStyleModel",
            "_view_count": null,
            "_view_module": "@jupyter-widgets/base",
            "_view_module_version": "1.2.0",
            "_view_name": "StyleView",
            "description_width": ""
          }
        },
        "28ee6032b298484ca8d3318c8a5de3e2": {
          "model_module": "@jupyter-widgets/controls",
          "model_name": "HBoxModel",
          "model_module_version": "1.5.0",
          "state": {
            "_dom_classes": [],
            "_model_module": "@jupyter-widgets/controls",
            "_model_module_version": "1.5.0",
            "_model_name": "HBoxModel",
            "_view_count": null,
            "_view_module": "@jupyter-widgets/controls",
            "_view_module_version": "1.5.0",
            "_view_name": "HBoxView",
            "box_style": "",
            "children": [
              "IPY_MODEL_ddba86eefac4493583b28ea849f8b258",
              "IPY_MODEL_a3cfc1db9e4c40b2993ab7b99ba48d79"
            ],
            "layout": "IPY_MODEL_33262dfa9ec249088021b8d001f606d6"
          }
        },
        "ddba86eefac4493583b28ea849f8b258": {
          "model_module": "@jupyter-widgets/controls",
          "model_name": "FloatProgressModel",
          "model_module_version": "1.5.0",
          "state": {
            "_dom_classes": [],
            "_model_module": "@jupyter-widgets/controls",
            "_model_module_version": "1.5.0",
            "_model_name": "FloatProgressModel",
            "_view_count": null,
            "_view_module": "@jupyter-widgets/controls",
            "_view_module_version": "1.5.0",
            "_view_name": "ProgressView",
            "bar_style": "success",
            "description": "100%",
            "description_tooltip": null,
            "layout": "IPY_MODEL_ee3365a03dfe4a8d92ac8f8874f17209",
            "max": 3,
            "min": 0,
            "orientation": "horizontal",
            "style": "IPY_MODEL_28dfd26721d24a34a9c4e34797e521de",
            "value": 3
          }
        },
        "a3cfc1db9e4c40b2993ab7b99ba48d79": {
          "model_module": "@jupyter-widgets/controls",
          "model_name": "HTMLModel",
          "model_module_version": "1.5.0",
          "state": {
            "_dom_classes": [],
            "_model_module": "@jupyter-widgets/controls",
            "_model_module_version": "1.5.0",
            "_model_name": "HTMLModel",
            "_view_count": null,
            "_view_module": "@jupyter-widgets/controls",
            "_view_module_version": "1.5.0",
            "_view_name": "HTMLView",
            "description": "",
            "description_tooltip": null,
            "layout": "IPY_MODEL_88df2234d5b2492e9f6a3c3b697302bd",
            "placeholder": "​",
            "style": "IPY_MODEL_a00530889f744fa0b528594b7cfeb5c7",
            "value": " 3/3 [00:03&lt;00:00,  1.28s/ba]"
          }
        },
        "33262dfa9ec249088021b8d001f606d6": {
          "model_module": "@jupyter-widgets/base",
          "model_name": "LayoutModel",
          "model_module_version": "1.2.0",
          "state": {
            "_model_module": "@jupyter-widgets/base",
            "_model_module_version": "1.2.0",
            "_model_name": "LayoutModel",
            "_view_count": null,
            "_view_module": "@jupyter-widgets/base",
            "_view_module_version": "1.2.0",
            "_view_name": "LayoutView",
            "align_content": null,
            "align_items": null,
            "align_self": null,
            "border": null,
            "bottom": null,
            "display": null,
            "flex": null,
            "flex_flow": null,
            "grid_area": null,
            "grid_auto_columns": null,
            "grid_auto_flow": null,
            "grid_auto_rows": null,
            "grid_column": null,
            "grid_gap": null,
            "grid_row": null,
            "grid_template_areas": null,
            "grid_template_columns": null,
            "grid_template_rows": null,
            "height": null,
            "justify_content": null,
            "justify_items": null,
            "left": null,
            "margin": null,
            "max_height": null,
            "max_width": null,
            "min_height": null,
            "min_width": null,
            "object_fit": null,
            "object_position": null,
            "order": null,
            "overflow": null,
            "overflow_x": null,
            "overflow_y": null,
            "padding": null,
            "right": null,
            "top": null,
            "visibility": null,
            "width": null
          }
        },
        "ee3365a03dfe4a8d92ac8f8874f17209": {
          "model_module": "@jupyter-widgets/base",
          "model_name": "LayoutModel",
          "model_module_version": "1.2.0",
          "state": {
            "_model_module": "@jupyter-widgets/base",
            "_model_module_version": "1.2.0",
            "_model_name": "LayoutModel",
            "_view_count": null,
            "_view_module": "@jupyter-widgets/base",
            "_view_module_version": "1.2.0",
            "_view_name": "LayoutView",
            "align_content": null,
            "align_items": null,
            "align_self": null,
            "border": null,
            "bottom": null,
            "display": null,
            "flex": null,
            "flex_flow": null,
            "grid_area": null,
            "grid_auto_columns": null,
            "grid_auto_flow": null,
            "grid_auto_rows": null,
            "grid_column": null,
            "grid_gap": null,
            "grid_row": null,
            "grid_template_areas": null,
            "grid_template_columns": null,
            "grid_template_rows": null,
            "height": null,
            "justify_content": null,
            "justify_items": null,
            "left": null,
            "margin": null,
            "max_height": null,
            "max_width": null,
            "min_height": null,
            "min_width": null,
            "object_fit": null,
            "object_position": null,
            "order": null,
            "overflow": null,
            "overflow_x": null,
            "overflow_y": null,
            "padding": null,
            "right": null,
            "top": null,
            "visibility": null,
            "width": null
          }
        },
        "28dfd26721d24a34a9c4e34797e521de": {
          "model_module": "@jupyter-widgets/controls",
          "model_name": "ProgressStyleModel",
          "model_module_version": "1.5.0",
          "state": {
            "_model_module": "@jupyter-widgets/controls",
            "_model_module_version": "1.5.0",
            "_model_name": "ProgressStyleModel",
            "_view_count": null,
            "_view_module": "@jupyter-widgets/base",
            "_view_module_version": "1.2.0",
            "_view_name": "StyleView",
            "bar_color": null,
            "description_width": "initial"
          }
        },
        "88df2234d5b2492e9f6a3c3b697302bd": {
          "model_module": "@jupyter-widgets/base",
          "model_name": "LayoutModel",
          "model_module_version": "1.2.0",
          "state": {
            "_model_module": "@jupyter-widgets/base",
            "_model_module_version": "1.2.0",
            "_model_name": "LayoutModel",
            "_view_count": null,
            "_view_module": "@jupyter-widgets/base",
            "_view_module_version": "1.2.0",
            "_view_name": "LayoutView",
            "align_content": null,
            "align_items": null,
            "align_self": null,
            "border": null,
            "bottom": null,
            "display": null,
            "flex": null,
            "flex_flow": null,
            "grid_area": null,
            "grid_auto_columns": null,
            "grid_auto_flow": null,
            "grid_auto_rows": null,
            "grid_column": null,
            "grid_gap": null,
            "grid_row": null,
            "grid_template_areas": null,
            "grid_template_columns": null,
            "grid_template_rows": null,
            "height": null,
            "justify_content": null,
            "justify_items": null,
            "left": null,
            "margin": null,
            "max_height": null,
            "max_width": null,
            "min_height": null,
            "min_width": null,
            "object_fit": null,
            "object_position": null,
            "order": null,
            "overflow": null,
            "overflow_x": null,
            "overflow_y": null,
            "padding": null,
            "right": null,
            "top": null,
            "visibility": null,
            "width": null
          }
        },
        "a00530889f744fa0b528594b7cfeb5c7": {
          "model_module": "@jupyter-widgets/controls",
          "model_name": "DescriptionStyleModel",
          "model_module_version": "1.5.0",
          "state": {
            "_model_module": "@jupyter-widgets/controls",
            "_model_module_version": "1.5.0",
            "_model_name": "DescriptionStyleModel",
            "_view_count": null,
            "_view_module": "@jupyter-widgets/base",
            "_view_module_version": "1.2.0",
            "_view_name": "StyleView",
            "description_width": ""
          }
        },
        "083eaa988be34abd97fe4695e6900bd7": {
          "model_module": "@jupyter-widgets/controls",
          "model_name": "HBoxModel",
          "model_module_version": "1.5.0",
          "state": {
            "_dom_classes": [],
            "_model_module": "@jupyter-widgets/controls",
            "_model_module_version": "1.5.0",
            "_model_name": "HBoxModel",
            "_view_count": null,
            "_view_module": "@jupyter-widgets/controls",
            "_view_module_version": "1.5.0",
            "_view_name": "HBoxView",
            "box_style": "",
            "children": [
              "IPY_MODEL_60582fdd5bed45ae98509f39fd120686",
              "IPY_MODEL_560a46d237a24f918ea31b3a99f47923"
            ],
            "layout": "IPY_MODEL_432feaf704a74a45864ec41bb8daa2be"
          }
        },
        "60582fdd5bed45ae98509f39fd120686": {
          "model_module": "@jupyter-widgets/controls",
          "model_name": "FloatProgressModel",
          "model_module_version": "1.5.0",
          "state": {
            "_dom_classes": [],
            "_model_module": "@jupyter-widgets/controls",
            "_model_module_version": "1.5.0",
            "_model_name": "FloatProgressModel",
            "_view_count": null,
            "_view_module": "@jupyter-widgets/controls",
            "_view_module_version": "1.5.0",
            "_view_name": "ProgressView",
            "bar_style": "success",
            "description": "Downloading pytorch_model.bin: 100%",
            "description_tooltip": null,
            "layout": "IPY_MODEL_ee572844042b45489b9d386afd505586",
            "max": 647693783,
            "min": 0,
            "orientation": "horizontal",
            "style": "IPY_MODEL_317a3818f9324e46a28ce9659bba1c27",
            "value": 647693783
          }
        },
        "560a46d237a24f918ea31b3a99f47923": {
          "model_module": "@jupyter-widgets/controls",
          "model_name": "HTMLModel",
          "model_module_version": "1.5.0",
          "state": {
            "_dom_classes": [],
            "_model_module": "@jupyter-widgets/controls",
            "_model_module_version": "1.5.0",
            "_model_name": "HTMLModel",
            "_view_count": null,
            "_view_module": "@jupyter-widgets/controls",
            "_view_module_version": "1.5.0",
            "_view_name": "HTMLView",
            "description": "",
            "description_tooltip": null,
            "layout": "IPY_MODEL_9fb6c930f1164162b34b986d427fb87d",
            "placeholder": "​",
            "style": "IPY_MODEL_35fd721f934e4cef819403defc990b9a",
            "value": " 618M/618M [00:45&lt;00:00, 14.3MB/s]"
          }
        },
        "432feaf704a74a45864ec41bb8daa2be": {
          "model_module": "@jupyter-widgets/base",
          "model_name": "LayoutModel",
          "model_module_version": "1.2.0",
          "state": {
            "_model_module": "@jupyter-widgets/base",
            "_model_module_version": "1.2.0",
            "_model_name": "LayoutModel",
            "_view_count": null,
            "_view_module": "@jupyter-widgets/base",
            "_view_module_version": "1.2.0",
            "_view_name": "LayoutView",
            "align_content": null,
            "align_items": null,
            "align_self": null,
            "border": null,
            "bottom": null,
            "display": null,
            "flex": null,
            "flex_flow": null,
            "grid_area": null,
            "grid_auto_columns": null,
            "grid_auto_flow": null,
            "grid_auto_rows": null,
            "grid_column": null,
            "grid_gap": null,
            "grid_row": null,
            "grid_template_areas": null,
            "grid_template_columns": null,
            "grid_template_rows": null,
            "height": null,
            "justify_content": null,
            "justify_items": null,
            "left": null,
            "margin": null,
            "max_height": null,
            "max_width": null,
            "min_height": null,
            "min_width": null,
            "object_fit": null,
            "object_position": null,
            "order": null,
            "overflow": null,
            "overflow_x": null,
            "overflow_y": null,
            "padding": null,
            "right": null,
            "top": null,
            "visibility": null,
            "width": null
          }
        },
        "ee572844042b45489b9d386afd505586": {
          "model_module": "@jupyter-widgets/base",
          "model_name": "LayoutModel",
          "model_module_version": "1.2.0",
          "state": {
            "_model_module": "@jupyter-widgets/base",
            "_model_module_version": "1.2.0",
            "_model_name": "LayoutModel",
            "_view_count": null,
            "_view_module": "@jupyter-widgets/base",
            "_view_module_version": "1.2.0",
            "_view_name": "LayoutView",
            "align_content": null,
            "align_items": null,
            "align_self": null,
            "border": null,
            "bottom": null,
            "display": null,
            "flex": null,
            "flex_flow": null,
            "grid_area": null,
            "grid_auto_columns": null,
            "grid_auto_flow": null,
            "grid_auto_rows": null,
            "grid_column": null,
            "grid_gap": null,
            "grid_row": null,
            "grid_template_areas": null,
            "grid_template_columns": null,
            "grid_template_rows": null,
            "height": null,
            "justify_content": null,
            "justify_items": null,
            "left": null,
            "margin": null,
            "max_height": null,
            "max_width": null,
            "min_height": null,
            "min_width": null,
            "object_fit": null,
            "object_position": null,
            "order": null,
            "overflow": null,
            "overflow_x": null,
            "overflow_y": null,
            "padding": null,
            "right": null,
            "top": null,
            "visibility": null,
            "width": null
          }
        },
        "317a3818f9324e46a28ce9659bba1c27": {
          "model_module": "@jupyter-widgets/controls",
          "model_name": "ProgressStyleModel",
          "model_module_version": "1.5.0",
          "state": {
            "_model_module": "@jupyter-widgets/controls",
            "_model_module_version": "1.5.0",
            "_model_name": "ProgressStyleModel",
            "_view_count": null,
            "_view_module": "@jupyter-widgets/base",
            "_view_module_version": "1.2.0",
            "_view_name": "StyleView",
            "bar_color": null,
            "description_width": "initial"
          }
        },
        "9fb6c930f1164162b34b986d427fb87d": {
          "model_module": "@jupyter-widgets/base",
          "model_name": "LayoutModel",
          "model_module_version": "1.2.0",
          "state": {
            "_model_module": "@jupyter-widgets/base",
            "_model_module_version": "1.2.0",
            "_model_name": "LayoutModel",
            "_view_count": null,
            "_view_module": "@jupyter-widgets/base",
            "_view_module_version": "1.2.0",
            "_view_name": "LayoutView",
            "align_content": null,
            "align_items": null,
            "align_self": null,
            "border": null,
            "bottom": null,
            "display": null,
            "flex": null,
            "flex_flow": null,
            "grid_area": null,
            "grid_auto_columns": null,
            "grid_auto_flow": null,
            "grid_auto_rows": null,
            "grid_column": null,
            "grid_gap": null,
            "grid_row": null,
            "grid_template_areas": null,
            "grid_template_columns": null,
            "grid_template_rows": null,
            "height": null,
            "justify_content": null,
            "justify_items": null,
            "left": null,
            "margin": null,
            "max_height": null,
            "max_width": null,
            "min_height": null,
            "min_width": null,
            "object_fit": null,
            "object_position": null,
            "order": null,
            "overflow": null,
            "overflow_x": null,
            "overflow_y": null,
            "padding": null,
            "right": null,
            "top": null,
            "visibility": null,
            "width": null
          }
        },
        "35fd721f934e4cef819403defc990b9a": {
          "model_module": "@jupyter-widgets/controls",
          "model_name": "DescriptionStyleModel",
          "model_module_version": "1.5.0",
          "state": {
            "_model_module": "@jupyter-widgets/controls",
            "_model_module_version": "1.5.0",
            "_model_name": "DescriptionStyleModel",
            "_view_count": null,
            "_view_module": "@jupyter-widgets/base",
            "_view_module_version": "1.2.0",
            "_view_name": "StyleView",
            "description_width": ""
          }
        }
      }
    }
  },
  "nbformat": 4,
  "nbformat_minor": 0
}